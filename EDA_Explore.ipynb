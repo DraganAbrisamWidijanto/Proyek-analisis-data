{
 "cells": [
  {
   "cell_type": "markdown",
   "metadata": {
    "id": "q6Bch9UUpaqI"
   },
   "source": [
    "# Proyek Analisis Data: E-Commerce Public Dataset (Brazilian E-Commerce Public Dataset by Olist)\n",
    "- **Nama:** Dragan Abrisam Widijanto\n",
    "- **Email:** dragan712.dw@gmail.com\n",
    "- **ID Dicoding:** dragan"
   ]
  },
  {
   "cell_type": "markdown",
   "metadata": {
    "id": "KDUlEQ57pdYf"
   },
   "source": [
    "## Menentukan Pertanyaan Bisnis"
   ]
  },
  {
   "cell_type": "markdown",
   "metadata": {
    "id": "rE8bY9Iapf5r"
   },
   "source": [
    "- Selama penjualan bulanan 2016-2018, apakah ada tren tertentu yang terbentuk?\n",
    "- Metode pembayaran mana yang paling efektif untuk strategi promosi dalam menarik pelanggan baru dan meningkatkan penjualan?\n",
    "- Kota bagian mana yang memiliki potensi pasar terbesar berdasarkan jumlah pelanggan?\n",
    "- Bagaimana proporsi pelanggan dalam setiap kategori pengeluaran berdasarkan analisis RFM selama tahun 2016 sampai 2018?\n",
    "- Dimana saja lokasi pelanggan di Brasil yang memberikan kontribusi terbesar terhadap nilai pembayaran selama tahun 2016 sampai 2018?\n",
    "\n"
   ]
  },
  {
   "cell_type": "markdown",
   "metadata": {
    "id": "Hov6cN68pgQC"
   },
   "source": [
    "## Import Semua Packages/Library yang Digunakan"
   ]
  },
  {
   "cell_type": "code",
   "execution_count": null,
   "metadata": {
    "id": "iIX-IuVjzEXO"
   },
   "outputs": [],
   "source": [
    "from google.colab import files\n",
    "import pandas as pd\n",
    "import folium\n",
    "import matplotlib.pyplot as plt\n",
    "import seaborn as sns\n",
    "from folium.plugins import MarkerCluster"
   ]
  },
  {
   "cell_type": "code",
   "execution_count": null,
   "metadata": {
    "colab": {
     "base_uri": "https://localhost:8080/",
     "height": 73
    },
    "id": "IhPF8WTqysLF",
    "outputId": "9cd2f28a-2b18-4407-8992-5fd1c96a8a82"
   },
   "outputs": [
    {
     "data": {
      "text/html": [
       "\n",
       "     <input type=\"file\" id=\"files-014344de-0c4d-49e8-b5be-b62c9d97728d\" name=\"files[]\" multiple disabled\n",
       "        style=\"border:none\" />\n",
       "     <output id=\"result-014344de-0c4d-49e8-b5be-b62c9d97728d\">\n",
       "      Upload widget is only available when the cell has been executed in the\n",
       "      current browser session. Please rerun this cell to enable.\n",
       "      </output>\n",
       "      <script>// Copyright 2017 Google LLC\n",
       "//\n",
       "// Licensed under the Apache License, Version 2.0 (the \"License\");\n",
       "// you may not use this file except in compliance with the License.\n",
       "// You may obtain a copy of the License at\n",
       "//\n",
       "//      http://www.apache.org/licenses/LICENSE-2.0\n",
       "//\n",
       "// Unless required by applicable law or agreed to in writing, software\n",
       "// distributed under the License is distributed on an \"AS IS\" BASIS,\n",
       "// WITHOUT WARRANTIES OR CONDITIONS OF ANY KIND, either express or implied.\n",
       "// See the License for the specific language governing permissions and\n",
       "// limitations under the License.\n",
       "\n",
       "/**\n",
       " * @fileoverview Helpers for google.colab Python module.\n",
       " */\n",
       "(function(scope) {\n",
       "function span(text, styleAttributes = {}) {\n",
       "  const element = document.createElement('span');\n",
       "  element.textContent = text;\n",
       "  for (const key of Object.keys(styleAttributes)) {\n",
       "    element.style[key] = styleAttributes[key];\n",
       "  }\n",
       "  return element;\n",
       "}\n",
       "\n",
       "// Max number of bytes which will be uploaded at a time.\n",
       "const MAX_PAYLOAD_SIZE = 100 * 1024;\n",
       "\n",
       "function _uploadFiles(inputId, outputId) {\n",
       "  const steps = uploadFilesStep(inputId, outputId);\n",
       "  const outputElement = document.getElementById(outputId);\n",
       "  // Cache steps on the outputElement to make it available for the next call\n",
       "  // to uploadFilesContinue from Python.\n",
       "  outputElement.steps = steps;\n",
       "\n",
       "  return _uploadFilesContinue(outputId);\n",
       "}\n",
       "\n",
       "// This is roughly an async generator (not supported in the browser yet),\n",
       "// where there are multiple asynchronous steps and the Python side is going\n",
       "// to poll for completion of each step.\n",
       "// This uses a Promise to block the python side on completion of each step,\n",
       "// then passes the result of the previous step as the input to the next step.\n",
       "function _uploadFilesContinue(outputId) {\n",
       "  const outputElement = document.getElementById(outputId);\n",
       "  const steps = outputElement.steps;\n",
       "\n",
       "  const next = steps.next(outputElement.lastPromiseValue);\n",
       "  return Promise.resolve(next.value.promise).then((value) => {\n",
       "    // Cache the last promise value to make it available to the next\n",
       "    // step of the generator.\n",
       "    outputElement.lastPromiseValue = value;\n",
       "    return next.value.response;\n",
       "  });\n",
       "}\n",
       "\n",
       "/**\n",
       " * Generator function which is called between each async step of the upload\n",
       " * process.\n",
       " * @param {string} inputId Element ID of the input file picker element.\n",
       " * @param {string} outputId Element ID of the output display.\n",
       " * @return {!Iterable<!Object>} Iterable of next steps.\n",
       " */\n",
       "function* uploadFilesStep(inputId, outputId) {\n",
       "  const inputElement = document.getElementById(inputId);\n",
       "  inputElement.disabled = false;\n",
       "\n",
       "  const outputElement = document.getElementById(outputId);\n",
       "  outputElement.innerHTML = '';\n",
       "\n",
       "  const pickedPromise = new Promise((resolve) => {\n",
       "    inputElement.addEventListener('change', (e) => {\n",
       "      resolve(e.target.files);\n",
       "    });\n",
       "  });\n",
       "\n",
       "  const cancel = document.createElement('button');\n",
       "  inputElement.parentElement.appendChild(cancel);\n",
       "  cancel.textContent = 'Cancel upload';\n",
       "  const cancelPromise = new Promise((resolve) => {\n",
       "    cancel.onclick = () => {\n",
       "      resolve(null);\n",
       "    };\n",
       "  });\n",
       "\n",
       "  // Wait for the user to pick the files.\n",
       "  const files = yield {\n",
       "    promise: Promise.race([pickedPromise, cancelPromise]),\n",
       "    response: {\n",
       "      action: 'starting',\n",
       "    }\n",
       "  };\n",
       "\n",
       "  cancel.remove();\n",
       "\n",
       "  // Disable the input element since further picks are not allowed.\n",
       "  inputElement.disabled = true;\n",
       "\n",
       "  if (!files) {\n",
       "    return {\n",
       "      response: {\n",
       "        action: 'complete',\n",
       "      }\n",
       "    };\n",
       "  }\n",
       "\n",
       "  for (const file of files) {\n",
       "    const li = document.createElement('li');\n",
       "    li.append(span(file.name, {fontWeight: 'bold'}));\n",
       "    li.append(span(\n",
       "        `(${file.type || 'n/a'}) - ${file.size} bytes, ` +\n",
       "        `last modified: ${\n",
       "            file.lastModifiedDate ? file.lastModifiedDate.toLocaleDateString() :\n",
       "                                    'n/a'} - `));\n",
       "    const percent = span('0% done');\n",
       "    li.appendChild(percent);\n",
       "\n",
       "    outputElement.appendChild(li);\n",
       "\n",
       "    const fileDataPromise = new Promise((resolve) => {\n",
       "      const reader = new FileReader();\n",
       "      reader.onload = (e) => {\n",
       "        resolve(e.target.result);\n",
       "      };\n",
       "      reader.readAsArrayBuffer(file);\n",
       "    });\n",
       "    // Wait for the data to be ready.\n",
       "    let fileData = yield {\n",
       "      promise: fileDataPromise,\n",
       "      response: {\n",
       "        action: 'continue',\n",
       "      }\n",
       "    };\n",
       "\n",
       "    // Use a chunked sending to avoid message size limits. See b/62115660.\n",
       "    let position = 0;\n",
       "    do {\n",
       "      const length = Math.min(fileData.byteLength - position, MAX_PAYLOAD_SIZE);\n",
       "      const chunk = new Uint8Array(fileData, position, length);\n",
       "      position += length;\n",
       "\n",
       "      const base64 = btoa(String.fromCharCode.apply(null, chunk));\n",
       "      yield {\n",
       "        response: {\n",
       "          action: 'append',\n",
       "          file: file.name,\n",
       "          data: base64,\n",
       "        },\n",
       "      };\n",
       "\n",
       "      let percentDone = fileData.byteLength === 0 ?\n",
       "          100 :\n",
       "          Math.round((position / fileData.byteLength) * 100);\n",
       "      percent.textContent = `${percentDone}% done`;\n",
       "\n",
       "    } while (position < fileData.byteLength);\n",
       "  }\n",
       "\n",
       "  // All done.\n",
       "  yield {\n",
       "    response: {\n",
       "      action: 'complete',\n",
       "    }\n",
       "  };\n",
       "}\n",
       "\n",
       "scope.google = scope.google || {};\n",
       "scope.google.colab = scope.google.colab || {};\n",
       "scope.google.colab._files = {\n",
       "  _uploadFiles,\n",
       "  _uploadFilesContinue,\n",
       "};\n",
       "})(self);\n",
       "</script> "
      ],
      "text/plain": [
       "<IPython.core.display.HTML object>"
      ]
     },
     "metadata": {},
     "output_type": "display_data"
    },
    {
     "name": "stdout",
     "output_type": "stream",
     "text": [
      "Saving kaggle.json to kaggle.json\n"
     ]
    }
   ],
   "source": [
    "files.upload()  # Upload file kaggle.json\n",
    "\n",
    "!mkdir -p ~/.kaggle\n",
    "!cp kaggle.json ~/.kaggle/\n",
    "!chmod 600 ~/.kaggle/kaggle.json"
   ]
  },
  {
   "cell_type": "markdown",
   "metadata": {
    "id": "oKPt36zSVf4C"
   },
   "source": [
    "## Data Wragling"
   ]
  },
  {
   "cell_type": "markdown",
   "metadata": {
    "id": "M4k5iYl2VjuP"
   },
   "source": [
    "### Gathering Data"
   ]
  },
  {
   "cell_type": "code",
   "execution_count": null,
   "metadata": {
    "colab": {
     "base_uri": "https://localhost:8080/"
    },
    "id": "c0R1Gc_ry9_z",
    "outputId": "0844bb81-3bfd-474b-94c7-de47030c81ff"
   },
   "outputs": [
    {
     "name": "stdout",
     "output_type": "stream",
     "text": [
      "Dataset URL: https://www.kaggle.com/datasets/olistbr/brazilian-ecommerce\n",
      "License(s): CC-BY-NC-SA-4.0\n",
      "Downloading brazilian-ecommerce.zip to /content\n",
      " 77% 33.0M/42.6M [00:00<00:00, 150MB/s] \n",
      "100% 42.6M/42.6M [00:00<00:00, 159MB/s]\n"
     ]
    }
   ],
   "source": [
    "!kaggle datasets download -d olistbr/brazilian-ecommerce"
   ]
  },
  {
   "cell_type": "code",
   "execution_count": null,
   "metadata": {
    "colab": {
     "base_uri": "https://localhost:8080/"
    },
    "id": "nv3WdlzTzAbE",
    "outputId": "31e2b430-25a4-4f11-d252-b0197530d1fc"
   },
   "outputs": [
    {
     "name": "stdout",
     "output_type": "stream",
     "text": [
      "Archive:  brazilian-ecommerce.zip\n",
      "  inflating: olist_customers_dataset.csv  \n",
      "  inflating: olist_geolocation_dataset.csv  \n",
      "  inflating: olist_order_items_dataset.csv  \n",
      "  inflating: olist_order_payments_dataset.csv  \n",
      "  inflating: olist_order_reviews_dataset.csv  \n",
      "  inflating: olist_orders_dataset.csv  \n",
      "  inflating: olist_products_dataset.csv  \n",
      "  inflating: olist_sellers_dataset.csv  \n",
      "  inflating: product_category_name_translation.csv  \n"
     ]
    }
   ],
   "source": [
    "!unzip brazilian-ecommerce.zip"
   ]
  },
  {
   "cell_type": "markdown",
   "metadata": {},
   "source": [
    "Meload Data CSV"
   ]
  },
  {
   "cell_type": "code",
   "execution_count": null,
   "metadata": {
    "id": "Hh5thPIlzEzL"
   },
   "outputs": [],
   "source": [
    "olist_customers_dataset = pd.read_csv('olist_customers_dataset.csv')\n",
    "olist_orders_dataset = pd.read_csv('olist_orders_dataset.csv')\n",
    "olist_order_items_dataset = pd.read_csv('olist_order_items_dataset.csv')\n",
    "olist_order_payments_dataset = pd.read_csv('olist_order_payments_dataset.csv')\n",
    "olist_geolocation_dataset = pd.read_csv('olist_geolocation_dataset.csv')\n"
   ]
  },
  {
   "cell_type": "markdown",
   "metadata": {
    "id": "2WGCOYudqHo8"
   },
   "source": [
    "### Assessing Data"
   ]
  },
  {
   "cell_type": "markdown",
   "metadata": {},
   "source": [
    "Membuat dictionary agar dapat melihat data dengan mudah"
   ]
  },
  {
   "cell_type": "code",
   "execution_count": null,
   "metadata": {
    "id": "E553_j95qXGA"
   },
   "outputs": [],
   "source": [
    "datasets = {\n",
    "    'olist_customers_dataset': olist_customers_dataset,\n",
    "    'olist_orders_dataset': olist_orders_dataset,\n",
    "    'olist_order_items_dataset': olist_order_items_dataset,\n",
    "    'olist_order_payments_dataset': olist_order_payments_dataset,\n",
    "    'olist_geolocation_dataset': olist_geolocation_dataset\n",
    "}"
   ]
  },
  {
   "cell_type": "code",
   "execution_count": null,
   "metadata": {
    "colab": {
     "base_uri": "https://localhost:8080/"
    },
    "id": "pWWApou1WPZk",
    "outputId": "741fda2c-e909-4120-f897-da9f0db6b8b7"
   },
   "outputs": [
    {
     "name": "stdout",
     "output_type": "stream",
     "text": [
      "\n",
      "Info of olist_customers_dataset:\n",
      "<class 'pandas.core.frame.DataFrame'>\n",
      "RangeIndex: 99441 entries, 0 to 99440\n",
      "Data columns (total 5 columns):\n",
      " #   Column                    Non-Null Count  Dtype \n",
      "---  ------                    --------------  ----- \n",
      " 0   customer_id               99441 non-null  object\n",
      " 1   customer_unique_id        99441 non-null  object\n",
      " 2   customer_zip_code_prefix  99441 non-null  int64 \n",
      " 3   customer_city             99441 non-null  object\n",
      " 4   customer_state            99441 non-null  object\n",
      "dtypes: int64(1), object(4)\n",
      "memory usage: 3.8+ MB\n",
      "None\n",
      "=============================================================\n",
      "\n",
      "Info of olist_orders_dataset:\n",
      "<class 'pandas.core.frame.DataFrame'>\n",
      "RangeIndex: 99441 entries, 0 to 99440\n",
      "Data columns (total 8 columns):\n",
      " #   Column                         Non-Null Count  Dtype \n",
      "---  ------                         --------------  ----- \n",
      " 0   order_id                       99441 non-null  object\n",
      " 1   customer_id                    99441 non-null  object\n",
      " 2   order_status                   99441 non-null  object\n",
      " 3   order_purchase_timestamp       99441 non-null  object\n",
      " 4   order_approved_at              99281 non-null  object\n",
      " 5   order_delivered_carrier_date   97658 non-null  object\n",
      " 6   order_delivered_customer_date  96476 non-null  object\n",
      " 7   order_estimated_delivery_date  99441 non-null  object\n",
      "dtypes: object(8)\n",
      "memory usage: 6.1+ MB\n",
      "None\n",
      "=============================================================\n",
      "\n",
      "Info of olist_order_items_dataset:\n",
      "<class 'pandas.core.frame.DataFrame'>\n",
      "RangeIndex: 112650 entries, 0 to 112649\n",
      "Data columns (total 7 columns):\n",
      " #   Column               Non-Null Count   Dtype  \n",
      "---  ------               --------------   -----  \n",
      " 0   order_id             112650 non-null  object \n",
      " 1   order_item_id        112650 non-null  int64  \n",
      " 2   product_id           112650 non-null  object \n",
      " 3   seller_id            112650 non-null  object \n",
      " 4   shipping_limit_date  112650 non-null  object \n",
      " 5   price                112650 non-null  float64\n",
      " 6   freight_value        112650 non-null  float64\n",
      "dtypes: float64(2), int64(1), object(4)\n",
      "memory usage: 6.0+ MB\n",
      "None\n",
      "=============================================================\n",
      "\n",
      "Info of olist_order_payments_dataset:\n",
      "<class 'pandas.core.frame.DataFrame'>\n",
      "RangeIndex: 103886 entries, 0 to 103885\n",
      "Data columns (total 5 columns):\n",
      " #   Column                Non-Null Count   Dtype  \n",
      "---  ------                --------------   -----  \n",
      " 0   order_id              103886 non-null  object \n",
      " 1   payment_sequential    103886 non-null  int64  \n",
      " 2   payment_type          103886 non-null  object \n",
      " 3   payment_installments  103886 non-null  int64  \n",
      " 4   payment_value         103886 non-null  float64\n",
      "dtypes: float64(1), int64(2), object(2)\n",
      "memory usage: 4.0+ MB\n",
      "None\n",
      "=============================================================\n",
      "\n",
      "Info of olist_geolocation_dataset:\n",
      "<class 'pandas.core.frame.DataFrame'>\n",
      "RangeIndex: 1000163 entries, 0 to 1000162\n",
      "Data columns (total 5 columns):\n",
      " #   Column                       Non-Null Count    Dtype  \n",
      "---  ------                       --------------    -----  \n",
      " 0   geolocation_zip_code_prefix  1000163 non-null  int64  \n",
      " 1   geolocation_lat              1000163 non-null  float64\n",
      " 2   geolocation_lng              1000163 non-null  float64\n",
      " 3   geolocation_city             1000163 non-null  object \n",
      " 4   geolocation_state            1000163 non-null  object \n",
      "dtypes: float64(2), int64(1), object(2)\n",
      "memory usage: 38.2+ MB\n",
      "None\n",
      "=============================================================\n"
     ]
    }
   ],
   "source": [
    "for name, df in datasets.items():\n",
    "  print(f\"\\nInfo of {name}:\")\n",
    "  print(df.info())\n",
    "  print(f'=============================================================')"
   ]
  },
  {
   "cell_type": "markdown",
   "metadata": {
    "id": "EZ9LDWhqhTpg"
   },
   "source": [
    "**Insight:**\n",
    "- Ketersediaan Data: Dataset yang digunakan dalam eksplorasi ini terdiri dari beberapa tabel, termasuk pelanggan, pesanan, item pesanan, pembayaran, dan geolokasi dengan total entri berkisar antara 99.441 hingga 1.000.163."
   ]
  },
  {
   "cell_type": "markdown",
   "metadata": {},
   "source": [
    "melihat nilai yang hilang"
   ]
  },
  {
   "cell_type": "code",
   "execution_count": null,
   "metadata": {
    "colab": {
     "base_uri": "https://localhost:8080/"
    },
    "id": "v9YGGGIlWb_n",
    "outputId": "78ef390d-6e45-48ff-ce1a-3bfa2dc4a426"
   },
   "outputs": [
    {
     "name": "stdout",
     "output_type": "stream",
     "text": [
      "\n",
      "MissingValue of olist_customers_dataset:\n",
      "customer_id                 0\n",
      "customer_unique_id          0\n",
      "customer_zip_code_prefix    0\n",
      "customer_city               0\n",
      "customer_state              0\n",
      "dtype: int64\n",
      "=============================================================\n",
      "\n",
      "MissingValue of olist_orders_dataset:\n",
      "order_id                            0\n",
      "customer_id                         0\n",
      "order_status                        0\n",
      "order_purchase_timestamp            0\n",
      "order_approved_at                 160\n",
      "order_delivered_carrier_date     1783\n",
      "order_delivered_customer_date    2965\n",
      "order_estimated_delivery_date       0\n",
      "dtype: int64\n",
      "=============================================================\n",
      "\n",
      "MissingValue of olist_order_items_dataset:\n",
      "order_id               0\n",
      "order_item_id          0\n",
      "product_id             0\n",
      "seller_id              0\n",
      "shipping_limit_date    0\n",
      "price                  0\n",
      "freight_value          0\n",
      "dtype: int64\n",
      "=============================================================\n",
      "\n",
      "MissingValue of olist_order_payments_dataset:\n",
      "order_id                0\n",
      "payment_sequential      0\n",
      "payment_type            0\n",
      "payment_installments    0\n",
      "payment_value           0\n",
      "dtype: int64\n",
      "=============================================================\n",
      "\n",
      "MissingValue of olist_geolocation_dataset:\n",
      "geolocation_zip_code_prefix    0\n",
      "geolocation_lat                0\n",
      "geolocation_lng                0\n",
      "geolocation_city               0\n",
      "geolocation_state              0\n",
      "dtype: int64\n",
      "=============================================================\n"
     ]
    }
   ],
   "source": [
    "for name, df in datasets.items():\n",
    "  print(f\"\\nMissingValue of {name}:\")\n",
    "  print(df.isna().sum())\n",
    "  print(f'=============================================================')"
   ]
  },
  {
   "cell_type": "markdown",
   "metadata": {
    "id": "ZIn-z6i-h7vM"
   },
   "source": [
    "**Insight:**\n",
    "- Ketersediaan Data dan Nilai yang Hilang: Dataset olist_orders_dataset memiliki beberapa nilai yang hilang, khususnya di kolom order_approved_at, order_delivered_carrier_date, dan order_delivered_customer_date. Sementara itu, dataset lainnya, tidak memiliki nilai yang hilang."
   ]
  },
  {
   "cell_type": "markdown",
   "metadata": {},
   "source": [
    "melihat nilai yang terduplikat"
   ]
  },
  {
   "cell_type": "code",
   "execution_count": null,
   "metadata": {
    "colab": {
     "base_uri": "https://localhost:8080/"
    },
    "id": "OVn2bMc0We9s",
    "outputId": "63434271-a5e4-4a13-c9a3-744a8c02585f"
   },
   "outputs": [
    {
     "name": "stdout",
     "output_type": "stream",
     "text": [
      "\n",
      "Duplication of olist_customers_dataset:\n",
      "0\n",
      "=============================================================\n",
      "\n",
      "Duplication of olist_orders_dataset:\n",
      "0\n",
      "=============================================================\n",
      "\n",
      "Duplication of olist_order_items_dataset:\n",
      "0\n",
      "=============================================================\n",
      "\n",
      "Duplication of olist_order_payments_dataset:\n",
      "0\n",
      "=============================================================\n",
      "\n",
      "Duplication of olist_geolocation_dataset:\n",
      "261831\n",
      "=============================================================\n"
     ]
    }
   ],
   "source": [
    "for name, df in datasets.items():\n",
    "  print(f\"\\nDuplication of {name}:\")\n",
    "  print(df.duplicated().sum())\n",
    "  print(f'=============================================================')"
   ]
  },
  {
   "cell_type": "markdown",
   "metadata": {
    "id": "uDghwFn7pscG"
   },
   "source": [
    "**Insight:**\n",
    "- Duplikasi Data: Dataset olist_customers_dataset, olist_orders_dataset, dan olist_order_items_dataset tidak memiliki entri yang duplikat, yang menunjukkan konsistensi dan keandalan dalam data pelanggan dan pesanan. Namun, dataset olist_geolocation_dataset memiliki 261.831 entri yang duplikat. Ini perlu diperhatikan dan ditangani, karena duplikasi data geolokasi dapat mempengaruhi analisis yang berkaitan dengan lokasi dan distribusi pelanggan. Menyaring atau membersihkan data duplikat ini akan membantu meningkatkan akurasi analisis dan hasil yang diperoleh dari data yang ada."
   ]
  },
  {
   "cell_type": "markdown",
   "metadata": {
    "id": "8bdhfGKsjNpn"
   },
   "source": [
    "## Data Cleaning"
   ]
  },
  {
   "cell_type": "markdown",
   "metadata": {
    "id": "CrRuY5AVjUB8"
   },
   "source": [
    "### Menghapus nilai duplicate"
   ]
  },
  {
   "cell_type": "code",
   "execution_count": null,
   "metadata": {
    "colab": {
     "base_uri": "https://localhost:8080/"
    },
    "id": "KNj0iIKZt8il",
    "outputId": "003cd5bc-f3ef-42e6-82bf-cc53df767c87"
   },
   "outputs": [
    {
     "name": "stdout",
     "output_type": "stream",
     "text": [
      "Number of duplicate rows in olist_geolocation_dataset: 261831\n",
      "Number of duplicate columns in olist_geolocation_dataset: 0\n",
      "Shape of original dataframe: (1000163, 5)\n",
      "Shape of dataframe after removing duplicates: (738332, 5)\n"
     ]
    }
   ],
   "source": [
    "# prompt: check duplication row/collumn in olist_geolocation_dataset\n",
    "\n",
    "# Check for duplicate rows in olist_geolocation_dataset\n",
    "duplicate_rows = olist_geolocation_dataset.duplicated()\n",
    "print(f\"Number of duplicate rows in olist_geolocation_dataset: {duplicate_rows.sum()}\")\n",
    "\n",
    "# Check for duplicate columns in olist_geolocation_dataset (less common but possible)\n",
    "duplicate_cols = olist_geolocation_dataset.columns.duplicated()\n",
    "print(f\"Number of duplicate columns in olist_geolocation_dataset: {duplicate_cols.sum()}\")\n",
    "\n",
    "\n",
    "# Example of handling duplicate rows (remove them)\n",
    "olist_geolocation_dataset_no_duplicates = olist_geolocation_dataset.drop_duplicates()\n",
    "print(f\"Shape of original dataframe: {olist_geolocation_dataset.shape}\")\n",
    "print(f\"Shape of dataframe after removing duplicates: {olist_geolocation_dataset_no_duplicates.shape}\")"
   ]
  },
  {
   "cell_type": "markdown",
   "metadata": {
    "id": "jnuRjl8MjXbH"
   },
   "source": [
    "### Menghapus nilai yang hilang"
   ]
  },
  {
   "cell_type": "code",
   "execution_count": null,
   "metadata": {
    "id": "ky2lyFEGW2au"
   },
   "outputs": [],
   "source": [
    "# Menangani missing values\n",
    "olist_orders_dataset.dropna(inplace=True)"
   ]
  },
  {
   "cell_type": "code",
   "execution_count": null,
   "metadata": {
    "colab": {
     "base_uri": "https://localhost:8080/"
    },
    "id": "wS6R2xpllJqx",
    "outputId": "f6475b63-000e-48e5-9331-59b2944c3555"
   },
   "outputs": [
    {
     "name": "stdout",
     "output_type": "stream",
     "text": [
      "\n",
      "Missing Values of olist_customers_dataset after handling:\n",
      "customer_id                 0\n",
      "customer_unique_id          0\n",
      "customer_zip_code_prefix    0\n",
      "customer_city               0\n",
      "customer_state              0\n",
      "dtype: int64\n",
      "\n",
      "Duplications of olist_customers_dataset after handling:\n",
      "0\n",
      "=============================================================\n",
      "\n",
      "Missing Values of olist_orders_dataset after handling:\n",
      "order_id                         0\n",
      "customer_id                      0\n",
      "order_status                     0\n",
      "order_purchase_timestamp         0\n",
      "order_approved_at                0\n",
      "order_delivered_carrier_date     0\n",
      "order_delivered_customer_date    0\n",
      "order_estimated_delivery_date    0\n",
      "dtype: int64\n",
      "\n",
      "Duplications of olist_orders_dataset after handling:\n",
      "0\n",
      "=============================================================\n",
      "\n",
      "Missing Values of olist_order_items_dataset after handling:\n",
      "order_id               0\n",
      "order_item_id          0\n",
      "product_id             0\n",
      "seller_id              0\n",
      "shipping_limit_date    0\n",
      "price                  0\n",
      "freight_value          0\n",
      "dtype: int64\n",
      "\n",
      "Duplications of olist_order_items_dataset after handling:\n",
      "0\n",
      "=============================================================\n",
      "\n",
      "Missing Values of olist_order_payments_dataset after handling:\n",
      "order_id                0\n",
      "payment_sequential      0\n",
      "payment_type            0\n",
      "payment_installments    0\n",
      "payment_value           0\n",
      "dtype: int64\n",
      "\n",
      "Duplications of olist_order_payments_dataset after handling:\n",
      "0\n",
      "=============================================================\n",
      "\n",
      "Missing Values of olist_geolocation_dataset after handling:\n",
      "geolocation_zip_code_prefix    0\n",
      "geolocation_lat                0\n",
      "geolocation_lng                0\n",
      "geolocation_city               0\n",
      "geolocation_state              0\n",
      "dtype: int64\n",
      "\n",
      "Duplications of olist_geolocation_dataset after handling:\n",
      "261831\n",
      "=============================================================\n"
     ]
    }
   ],
   "source": [
    "# Menampilkan hasil akhir\n",
    "for name, df in datasets.items():\n",
    "    print(f\"\\nMissing Values of {name} after handling:\")\n",
    "    print(df.isna().sum())\n",
    "    print(f\"\\nDuplications of {name} after handling:\")\n",
    "    print(df.duplicated().sum())\n",
    "    print(f'=============================================================')"
   ]
  },
  {
   "cell_type": "markdown",
   "metadata": {
    "id": "OKka7fVkjdn-"
   },
   "source": [
    "**Insight**\n",
    "\n",
    "- sudah tidak ada lagi nilai yang hilang"
   ]
  },
  {
   "cell_type": "markdown",
   "metadata": {
    "id": "c3mdVwYQqPyM"
   },
   "source": [
    "## Exploratory Data Analysis (EDA)"
   ]
  },
  {
   "cell_type": "code",
   "execution_count": null,
   "metadata": {
    "colab": {
     "base_uri": "https://localhost:8080/"
    },
    "id": "X9vxi26LlhkX",
    "outputId": "f40d3cb1-a218-4eeb-9c6c-f383858b9fb8"
   },
   "outputs": [
    {
     "name": "stdout",
     "output_type": "stream",
     "text": [
      "\n",
      "Describe of olist_customers_dataset:\n",
      "                             customer_id                customer_unique_id  \\\n",
      "count                              99441                             99441   \n",
      "unique                             99441                             96096   \n",
      "top     06b8999e2fba1a1fbc88172c00ba8bc7  8d50f5eadf50201ccdcedfb9e2ac8455   \n",
      "freq                                   1                                17   \n",
      "mean                                 NaN                               NaN   \n",
      "std                                  NaN                               NaN   \n",
      "min                                  NaN                               NaN   \n",
      "25%                                  NaN                               NaN   \n",
      "50%                                  NaN                               NaN   \n",
      "75%                                  NaN                               NaN   \n",
      "max                                  NaN                               NaN   \n",
      "\n",
      "        customer_zip_code_prefix customer_city customer_state  \n",
      "count               99441.000000         99441          99441  \n",
      "unique                       NaN          4119             27  \n",
      "top                          NaN     sao paulo             SP  \n",
      "freq                         NaN         15540          41746  \n",
      "mean                35137.474583           NaN            NaN  \n",
      "std                 29797.938996           NaN            NaN  \n",
      "min                  1003.000000           NaN            NaN  \n",
      "25%                 11347.000000           NaN            NaN  \n",
      "50%                 24416.000000           NaN            NaN  \n",
      "75%                 58900.000000           NaN            NaN  \n",
      "max                 99990.000000           NaN            NaN  \n",
      "=============================================================\n",
      "\n",
      "Describe of olist_orders_dataset:\n",
      "                                order_id                       customer_id  \\\n",
      "count                              96461                             96461   \n",
      "unique                             96461                             96461   \n",
      "top     e481f51cbdc54678b7cc49136f2d6af7  9ef432eb6251297304e76186b10a928d   \n",
      "freq                                   1                                 1   \n",
      "\n",
      "       order_status order_purchase_timestamp    order_approved_at  \\\n",
      "count         96461                    96461                96461   \n",
      "unique            2                    95939                88272   \n",
      "top       delivered      2018-08-02 12:05:26  2018-02-27 04:31:10   \n",
      "freq          96455                        3                    9   \n",
      "\n",
      "       order_delivered_carrier_date order_delivered_customer_date  \\\n",
      "count                         96461                         96461   \n",
      "unique                        80100                         95649   \n",
      "top             2018-05-09 15:48:00           2018-05-14 20:02:44   \n",
      "freq                             47                             3   \n",
      "\n",
      "       order_estimated_delivery_date  \n",
      "count                          96461  \n",
      "unique                           445  \n",
      "top              2017-12-20 00:00:00  \n",
      "freq                             507  \n",
      "=============================================================\n",
      "\n",
      "Describe of olist_order_items_dataset:\n",
      "                                order_id  order_item_id  \\\n",
      "count                             112650  112650.000000   \n",
      "unique                             98666            NaN   \n",
      "top     8272b63d03f5f79c56e9e4120aec44ef            NaN   \n",
      "freq                                  21            NaN   \n",
      "mean                                 NaN       1.197834   \n",
      "std                                  NaN       0.705124   \n",
      "min                                  NaN       1.000000   \n",
      "25%                                  NaN       1.000000   \n",
      "50%                                  NaN       1.000000   \n",
      "75%                                  NaN       1.000000   \n",
      "max                                  NaN      21.000000   \n",
      "\n",
      "                              product_id                         seller_id  \\\n",
      "count                             112650                            112650   \n",
      "unique                             32951                              3095   \n",
      "top     aca2eb7d00ea1a7b8ebd4e68314663af  6560211a19b47992c3666cc44a7e94c0   \n",
      "freq                                 527                              2033   \n",
      "mean                                 NaN                               NaN   \n",
      "std                                  NaN                               NaN   \n",
      "min                                  NaN                               NaN   \n",
      "25%                                  NaN                               NaN   \n",
      "50%                                  NaN                               NaN   \n",
      "75%                                  NaN                               NaN   \n",
      "max                                  NaN                               NaN   \n",
      "\n",
      "        shipping_limit_date          price  freight_value  \n",
      "count                112650  112650.000000  112650.000000  \n",
      "unique                93318            NaN            NaN  \n",
      "top     2017-07-21 18:25:23            NaN            NaN  \n",
      "freq                     21            NaN            NaN  \n",
      "mean                    NaN     120.653739      19.990320  \n",
      "std                     NaN     183.633928      15.806405  \n",
      "min                     NaN       0.850000       0.000000  \n",
      "25%                     NaN      39.900000      13.080000  \n",
      "50%                     NaN      74.990000      16.260000  \n",
      "75%                     NaN     134.900000      21.150000  \n",
      "max                     NaN    6735.000000     409.680000  \n",
      "=============================================================\n",
      "\n",
      "Describe of olist_order_payments_dataset:\n",
      "                                order_id  payment_sequential payment_type  \\\n",
      "count                             103886       103886.000000       103886   \n",
      "unique                             99440                 NaN            5   \n",
      "top     fa65dad1b0e818e3ccc5cb0e39231352                 NaN  credit_card   \n",
      "freq                                  29                 NaN        76795   \n",
      "mean                                 NaN            1.092679          NaN   \n",
      "std                                  NaN            0.706584          NaN   \n",
      "min                                  NaN            1.000000          NaN   \n",
      "25%                                  NaN            1.000000          NaN   \n",
      "50%                                  NaN            1.000000          NaN   \n",
      "75%                                  NaN            1.000000          NaN   \n",
      "max                                  NaN           29.000000          NaN   \n",
      "\n",
      "        payment_installments  payment_value  \n",
      "count          103886.000000  103886.000000  \n",
      "unique                   NaN            NaN  \n",
      "top                      NaN            NaN  \n",
      "freq                     NaN            NaN  \n",
      "mean                2.853349     154.100380  \n",
      "std                 2.687051     217.494064  \n",
      "min                 0.000000       0.000000  \n",
      "25%                 1.000000      56.790000  \n",
      "50%                 1.000000     100.000000  \n",
      "75%                 4.000000     171.837500  \n",
      "max                24.000000   13664.080000  \n",
      "=============================================================\n",
      "\n",
      "Describe of olist_geolocation_dataset:\n",
      "        geolocation_zip_code_prefix  geolocation_lat  geolocation_lng  \\\n",
      "count                  1.000163e+06     1.000163e+06     1.000163e+06   \n",
      "unique                          NaN              NaN              NaN   \n",
      "top                             NaN              NaN              NaN   \n",
      "freq                            NaN              NaN              NaN   \n",
      "mean                   3.657417e+04    -2.117615e+01    -4.639054e+01   \n",
      "std                    3.054934e+04     5.715866e+00     4.269748e+00   \n",
      "min                    1.001000e+03    -3.660537e+01    -1.014668e+02   \n",
      "25%                    1.107500e+04    -2.360355e+01    -4.857317e+01   \n",
      "50%                    2.653000e+04    -2.291938e+01    -4.663788e+01   \n",
      "75%                    6.350400e+04    -1.997962e+01    -4.376771e+01   \n",
      "max                    9.999000e+04     4.506593e+01     1.211054e+02   \n",
      "\n",
      "       geolocation_city geolocation_state  \n",
      "count           1000163           1000163  \n",
      "unique             8011                27  \n",
      "top           sao paulo                SP  \n",
      "freq             135800            404268  \n",
      "mean                NaN               NaN  \n",
      "std                 NaN               NaN  \n",
      "min                 NaN               NaN  \n",
      "25%                 NaN               NaN  \n",
      "50%                 NaN               NaN  \n",
      "75%                 NaN               NaN  \n",
      "max                 NaN               NaN  \n",
      "=============================================================\n"
     ]
    }
   ],
   "source": [
    "# prompt: df.describe all dataset\n",
    "\n",
    "for name, df in datasets.items():\n",
    "  print(f\"\\nDescribe of {name}:\")\n",
    "  print(df.describe(include='all'))\n",
    "  print(f'=============================================================')"
   ]
  },
  {
   "cell_type": "markdown",
   "metadata": {
    "id": "ykgA7ZwWtjb5"
   },
   "source": [
    "Menghitung kota berdasarkan customer terbanyak"
   ]
  },
  {
   "cell_type": "code",
   "execution_count": null,
   "metadata": {
    "colab": {
     "base_uri": "https://localhost:8080/"
    },
    "id": "Sv_AYF9XroiH",
    "outputId": "14f441a9-b780-473b-f02a-b1cb326661cd"
   },
   "outputs": [
    {
     "name": "stdout",
     "output_type": "stream",
     "text": [
      "\n",
      "Olist Customers Dataset Summary:\n",
      "count    99441.000000\n",
      "mean     35137.474583\n",
      "std      29797.938996\n",
      "min       1003.000000\n",
      "25%      11347.000000\n",
      "50%      24416.000000\n",
      "75%      58900.000000\n",
      "max      99990.000000\n",
      "Name: customer_zip_code_prefix, dtype: float64\n",
      "\n",
      "Top 5 States Count in Customers:\n",
      "customer_state\n",
      "SP    41746\n",
      "RJ    12852\n",
      "MG    11635\n",
      "RS     5466\n",
      "PR     5045\n",
      "Name: count, dtype: int64\n"
     ]
    }
   ],
   "source": [
    "# Summary of numerical columns\n",
    "customers_summary = olist_customers_dataset['customer_zip_code_prefix'].describe()\n",
    "print(\"\\nOlist Customers Dataset Summary:\")\n",
    "print(customers_summary)\n",
    "\n",
    "# Count of categorical columns\n",
    "state_counts = olist_customers_dataset['customer_state'].value_counts()\n",
    "\n",
    "\n",
    "print(\"\\nTop 5 States Count in Customers:\")\n",
    "print(state_counts.head())"
   ]
  },
  {
   "cell_type": "markdown",
   "metadata": {
    "id": "Zmlcqzx2ZvQX"
   },
   "source": [
    "**Insight**\n",
    "\n",
    "menampilkan 5 state dengan customer terbanyak, hasilnya Sao Paulo menjadi kota dengan customer paling banyak"
   ]
  },
  {
   "cell_type": "markdown",
   "metadata": {
    "id": "MRvs0pmTshro"
   },
   "source": [
    "Menganalisis bagaimana pesanan didistribusikan dari waktu ke waktu."
   ]
  },
  {
   "cell_type": "code",
   "execution_count": null,
   "metadata": {
    "colab": {
     "base_uri": "https://localhost:8080/"
    },
    "id": "T_ZDfDQosc6C",
    "outputId": "e91e2ce2-28ea-42c1-8e15-5f3ad2763fb5"
   },
   "outputs": [
    {
     "name": "stdout",
     "output_type": "stream",
     "text": [
      "\n",
      "Monthly Order Counts:\n",
      "year_month\n",
      "2016-09       1\n",
      "2016-10     270\n",
      "2016-12       1\n",
      "2017-01     748\n",
      "2017-02    1641\n",
      "2017-03    2546\n",
      "2017-04    2303\n",
      "2017-05    3545\n",
      "2017-06    3135\n",
      "2017-07    3872\n",
      "2017-08    4193\n",
      "2017-09    4149\n",
      "2017-10    4478\n",
      "2017-11    7288\n",
      "2017-12    5513\n",
      "2018-01    7069\n",
      "2018-02    6556\n",
      "2018-03    7003\n",
      "2018-04    6798\n",
      "2018-05    6749\n",
      "2018-06    6096\n",
      "2018-07    6156\n",
      "2018-08    6351\n",
      "Freq: M, Name: count, dtype: int64\n"
     ]
    }
   ],
   "source": [
    "# Convert order_purchase_timestamp to datetime\n",
    "olist_orders_dataset['order_purchase_timestamp'] = pd.to_datetime(olist_orders_dataset['order_purchase_timestamp'])\n",
    "\n",
    "# Extract year and month for analysis\n",
    "olist_orders_dataset['year_month'] = olist_orders_dataset['order_purchase_timestamp'].dt.to_period('M')\n",
    "\n",
    "# Count orders per month\n",
    "monthly_order_counts = olist_orders_dataset['year_month'].value_counts().sort_index()\n",
    "\n",
    "print(\"\\nMonthly Order Counts:\")\n",
    "print(monthly_order_counts)\n"
   ]
  },
  {
   "cell_type": "markdown",
   "metadata": {
    "id": "fC0O-iQkdojk"
   },
   "source": [
    "**Insight**\n",
    "\n",
    "Kode diatas menampilkan pesanan yang didistribusikan, jumlah pesanan bulanan menunjukkan adanya tren pertumbuhan yang positif. Dari tahun ke tahun, kita dapat melihat bahwa jumlah pesanan meningkat secara konsisten, yang mengindikasikan bahwa distribusi produk berjalan dengan baik."
   ]
  },
  {
   "cell_type": "code",
   "execution_count": null,
   "metadata": {
    "colab": {
     "base_uri": "https://localhost:8080/"
    },
    "id": "IcO5s1QHvn4k",
    "outputId": "d7542569-32c1-4271-a84d-7b145e582437"
   },
   "outputs": [
    {
     "name": "stdout",
     "output_type": "stream",
     "text": [
      "\n",
      "Olist Order Payments Dataset Summary:\n",
      "count    103886.000000\n",
      "mean        154.100380\n",
      "std         217.494064\n",
      "min           0.000000\n",
      "25%          56.790000\n",
      "50%         100.000000\n",
      "75%         171.837500\n",
      "max       13664.080000\n",
      "Name: payment_value, dtype: float64\n",
      "\n",
      "Payment Type Counts:\n",
      "payment_type\n",
      "credit_card    76795\n",
      "boleto         19784\n",
      "voucher         5775\n",
      "debit_card      1529\n",
      "not_defined        3\n",
      "Name: count, dtype: int64\n"
     ]
    }
   ],
   "source": [
    "# Univariate Analysis for Order Payments Dataset\n",
    "# Summary of the numerical columns\n",
    "payment_summary = olist_order_payments_dataset['payment_value'].describe()\n",
    "print(\"\\nOlist Order Payments Dataset Summary:\")\n",
    "print(payment_summary)\n",
    "\n",
    "# Count of payment types\n",
    "payment_type_counts = olist_order_payments_dataset['payment_type'].value_counts()\n",
    "print(\"\\nPayment Type Counts:\")\n",
    "print(payment_type_counts)\n"
   ]
  },
  {
   "cell_type": "markdown",
   "metadata": {
    "id": "PhWOLlutbbZH"
   },
   "source": [
    "**Insight**\n",
    "\n",
    "Terdapat beberapa metode pembayaran yang ada. dan yang paling populer adalah kartu kredit"
   ]
  },
  {
   "cell_type": "markdown",
   "metadata": {
    "id": "XVe8ZPm4z6uS"
   },
   "source": [
    "### RFM Analysis"
   ]
  },
  {
   "cell_type": "code",
   "execution_count": null,
   "metadata": {
    "id": "igWnB9eJn-aZ"
   },
   "outputs": [],
   "source": [
    "# Convert 'order_purchase_timestamp' to datetime\n",
    "olist_orders_dataset['order_purchase_timestamp'] = pd.to_datetime(olist_orders_dataset['order_purchase_timestamp'])\n",
    "\n",
    "# Recency: Menghitung waktu terakhir pelanggan melakukan pembelian\n",
    "# Menentukan tanggal hari ini untuk menghitung Recency\n",
    "today_date = olist_orders_dataset['order_purchase_timestamp'].max() + pd.Timedelta(days=1)  # Ambil tanggal max + 1 hari\n",
    "olist_orders_dataset['Recency'] = (today_date - olist_orders_dataset['order_purchase_timestamp']).dt.days"
   ]
  },
  {
   "cell_type": "code",
   "execution_count": null,
   "metadata": {
    "id": "JdjQ4PuPn-t0"
   },
   "outputs": [],
   "source": [
    "# Frequency: Menghitung jumlah transaksi per pelanggan\n",
    "# Mengelompokkan berdasarkan 'customer_id' dan menghitung jumlah transaksi\n",
    "frequency_df = olist_orders_dataset.groupby('customer_id').agg({'order_id': 'nunique'}).reset_index()\n",
    "frequency_df.rename(columns={'order_id': 'Frequency'}, inplace=True)"
   ]
  },
  {
   "cell_type": "code",
   "execution_count": null,
   "metadata": {
    "id": "u8814IVRv3ap"
   },
   "outputs": [],
   "source": [
    "# Frequency: Menghitung jumlah transaksi per pelanggan\n",
    "frequency_df = olist_orders_dataset[['customer_id', 'order_id']].drop_duplicates()  # Remove duplicate rows\n",
    "frequency_df = frequency_df.groupby('customer_id').agg({'order_id': 'nunique'}).reset_index()  # Aggregate\n",
    "frequency_df.rename(columns={'order_id': 'Frequency'}, inplace=True)"
   ]
  },
  {
   "cell_type": "code",
   "execution_count": null,
   "metadata": {
    "id": "xvCzGJQws2qb"
   },
   "outputs": [],
   "source": [
    "# Monetary: Menghitung total pengeluaran per pelanggan\n",
    "# Menggabungkan data transaksi dengan data pembayaran untuk mendapatkan total pengeluaran\n",
    "monetary_df = olist_order_payments_dataset.groupby('order_id').agg({'payment_value': 'sum'}).reset_index()\n",
    "# Menggabungkan dengan data pesanan untuk mendapatkan pengeluaran per pelanggan\n",
    "orders_with_payments = pd.merge(olist_orders_dataset[['order_id', 'customer_id']], monetary_df, on='order_id', how='left')\n",
    "monetary_df = orders_with_payments.groupby('customer_id').agg({'payment_value': 'sum'}).reset_index()\n",
    "monetary_df.rename(columns={'payment_value': 'Monetary'}, inplace=True)\n",
    "\n",
    "# Menggabungkan ketiga metrik (Recency, Frequency, Monetary)\n",
    "rfm_df = pd.merge(frequency_df, monetary_df, on='customer_id', how='left')\n",
    "rfm_df = pd.merge(rfm_df, olist_orders_dataset[['customer_id', 'Recency']].drop_duplicates(), on='customer_id', how='left')\n"
   ]
  },
  {
   "cell_type": "code",
   "execution_count": null,
   "metadata": {
    "colab": {
     "base_uri": "https://localhost:8080/"
    },
    "id": "zJ3Gz4_Us4Gb",
    "outputId": "caf78951-3b8c-46b1-bd83-b7959a1ff3e7"
   },
   "outputs": [
    {
     "name": "stdout",
     "output_type": "stream",
     "text": [
      "                        customer_id  Frequency  Monetary  Recency\n",
      "0  00012a2ce6f8dcda20d059ce98491703          1    114.74      288\n",
      "1  000161a058600d5901f007fab4c27140          1     67.41      410\n",
      "2  0001fd6190edaaf884bcaf3d49edf079          1    195.42      548\n",
      "3  0002414f95344307404f0ace7a26f1d5          1    179.35      379\n",
      "4  000379cdec625522490c315e70c7a9fb          1    107.01      150\n",
      "5  0004164d20a9e969af783496f3408652          1     71.80      505\n",
      "6  000419c5494106c306a97b5635748086          1     49.40      180\n",
      "7  00046a560d407e99b969756e0b10f282          1    166.59      255\n",
      "8  00050bf6e01e69d5c0fd612f1bcfb69c          1     85.23      346\n",
      "9  000598caf2ef4117407665ac33275130          1   1255.71       19\n"
     ]
    }
   ],
   "source": [
    "# Menampilkan hasil RFM\n",
    "print(rfm_df.head(10))"
   ]
  },
  {
   "cell_type": "code",
   "execution_count": null,
   "metadata": {
    "colab": {
     "base_uri": "https://localhost:8080/"
    },
    "id": "QCNpICb6tJUL",
    "outputId": "b6c98f2b-0f08-49b7-83b6-a284122b9d87"
   },
   "outputs": [
    {
     "name": "stdout",
     "output_type": "stream",
     "text": [
      "[1]\n"
     ]
    }
   ],
   "source": [
    "#show uniqe value of frequency in rfm_df\n",
    "print(rfm_df['Frequency'].unique())"
   ]
  },
  {
   "cell_type": "code",
   "execution_count": null,
   "metadata": {
    "colab": {
     "base_uri": "https://localhost:8080/"
    },
    "id": "Xjy8he-BxI6l",
    "outputId": "69787cd0-8bb6-41d5-c3cd-ff2cf4eb503d"
   },
   "outputs": [
    {
     "name": "stdout",
     "output_type": "stream",
     "text": [
      "Jumlah customer_id yang duplikat: 0\n",
      "Empty DataFrame\n",
      "Columns: [customer_id, counts]\n",
      "Index: []\n"
     ]
    }
   ],
   "source": [
    "customer_counts = olist_orders_dataset.groupby('customer_id').size().reset_index(name='counts')\n",
    "duplicate_customers = customer_counts[customer_counts['counts'] > 1]\n",
    "print(f\"Jumlah customer_id yang duplikat: {len(duplicate_customers)}\")\n",
    "print(duplicate_customers)"
   ]
  },
  {
   "cell_type": "code",
   "execution_count": null,
   "metadata": {
    "colab": {
     "base_uri": "https://localhost:8080/"
    },
    "id": "ktC_sVLQbCgH",
    "outputId": "1929c244-065d-4972-d633-e19ac6e9f85f"
   },
   "outputs": [
    {
     "name": "stdout",
     "output_type": "stream",
     "text": [
      "                            customer_id  Monetary  Recency   Customer_Category\n",
      "0      00012a2ce6f8dcda20d059ce98491703    114.74      288   Moderate Customer\n",
      "1      000161a058600d5901f007fab4c27140     67.41      410  Low Value Customer\n",
      "2      0001fd6190edaaf884bcaf3d49edf079    195.42      548   Moderate Customer\n",
      "3      0002414f95344307404f0ace7a26f1d5    179.35      379   Moderate Customer\n",
      "4      000379cdec625522490c315e70c7a9fb    107.01      150   Moderate Customer\n",
      "...                                 ...       ...      ...                 ...\n",
      "96456  fffcb937e9dd47a13f05ecb8290f4d3e     91.91      166  Low Value Customer\n",
      "96457  fffecc9f79fd8c764f843e9951b11341     81.36      153  Low Value Customer\n",
      "96458  fffeda5b6d849fbd39689bb92087f431     63.13      100  Low Value Customer\n",
      "96459  ffff42319e9b2d713724ae527742af25    214.13       77   Valuable Customer\n",
      "96460  ffffa3172527f765de70084a7e53aae8     45.50      362  Low Value Customer\n",
      "\n",
      "[96461 rows x 4 columns]\n"
     ]
    }
   ],
   "source": [
    "# Fungsi untuk mengelompokkan pelanggan berdasarkan Monetary dan Recency\n",
    "def categorize_customer_v2(row):\n",
    "    if row['Monetary'] > 500 and row['Recency'] < 30:\n",
    "        return 'VIP Customer'\n",
    "    elif row['Monetary'] > 200:\n",
    "        return 'Valuable Customer'\n",
    "    elif row['Monetary'] > 100:\n",
    "        return 'Moderate Customer'\n",
    "    else:\n",
    "        return 'Low Value Customer'\n",
    "\n",
    "rfm_df['Customer_Category'] = rfm_df.apply(categorize_customer_v2, axis=1)\n",
    "\n",
    "# Lihat hasil\n",
    "print(rfm_df[['customer_id', 'Monetary', 'Recency', 'Customer_Category']])\n"
   ]
  },
  {
   "cell_type": "code",
   "execution_count": null,
   "metadata": {
    "colab": {
     "base_uri": "https://localhost:8080/"
    },
    "id": "WhtLyIlIbPK5",
    "outputId": "b1439eab-2cd3-4eb2-9297-7edd0e746cce"
   },
   "outputs": [
    {
     "name": "stdout",
     "output_type": "stream",
     "text": [
      "    Customer_Category  Count\n",
      "0  Low Value Customer  45916\n",
      "1   Moderate Customer  31007\n",
      "2   Valuable Customer  19281\n",
      "3        VIP Customer    257\n"
     ]
    }
   ],
   "source": [
    "# Menghitung jumlah pelanggan dalam setiap kategori\n",
    "category_counts = rfm_df['Customer_Category'].value_counts().reset_index()\n",
    "category_counts.columns = ['Customer_Category', 'Count']\n",
    "\n",
    "# Tampilkan hasil\n",
    "print(category_counts)\n"
   ]
  },
  {
   "cell_type": "markdown",
   "metadata": {
    "id": "_e8Eg42YqVmO"
   },
   "source": [
    "**Insight:**\n",
    "\n",
    "**Frequency**: Dari analisis RFM yang dilakukan, diketahui bahwa semua pelanggan dalam dataset memiliki frekuensi (frequency) transaksi yang hanya satu kali. Hal ini sudah diverifikasi dan dipastikan bahwa tidak ada data duplikat, sehingga analisis tidak dapat mempertimbangkan aspek frekuensi dalam pengelompokan pelanggan.\n",
    "\n",
    "**Pendekatan pada Monetary dan Recency**: Dengan mempertimbangkan hanya model Monetary (nilai transaksi) dan Recency (waktu terakhir pelanggan melakukan transaksi), pelanggan dibagi menjadi empat kategori berdasarkan perilaku pengeluaran mereka:\n",
    "*   Low Value Customer: Pelanggan dengan nilai monetari rendah, menunjukkan bahwa mereka tidak berkontribusi banyak terhadap pendapatan.\n",
    "*   Moderate Customer: Pelanggan yang memiliki nilai monetari sedang, yang mungkin memerlukan perhatian untuk meningkatkan loyalitas dan frekuensi transaksi.\n",
    "*   Valuable Customer: Pelanggan yang memiliki nilai monetari tinggi, menunjukkan bahwa mereka cenderung melakukan pembelian lebih banyak dan lebih sering.\n",
    "*   VIP Customer: Kategori tertinggi, yaitu pelanggan yang memiliki nilai monetari sangat tinggi dan menunjukkan loyalitas terbaik.\n",
    "\n",
    "\n",
    "\n",
    "\n",
    "\n"
   ]
  },
  {
   "cell_type": "markdown",
   "metadata": {
    "id": "oADSRJh90D19"
   },
   "source": [
    "###\tGeospatial Analysis"
   ]
  },
  {
   "cell_type": "markdown",
   "metadata": {
    "id": "ltq08IhEUNaj"
   },
   "source": [
    "Nilai Pembayaran Berdasarkan Kota dan Negara Bagian di Brasil"
   ]
  },
  {
   "cell_type": "code",
   "execution_count": null,
   "metadata": {
    "colab": {
     "base_uri": "https://localhost:8080/"
    },
    "id": "-vTS7NeKQ4wX",
    "outputId": "62558868-ac28-4295-8f71-481ea7d48ff2"
   },
   "outputs": [
    {
     "name": "stdout",
     "output_type": "stream",
     "text": [
      "               geolocation_city geolocation_state  geolocation_lat  \\\n",
      "18090                  araguari                MG       -18.664473   \n",
      "453903           rio de janeiro                RJ       -22.903373   \n",
      "613440                sao paulo                SP       -23.457238   \n",
      "385529                   pianco                PB        -7.199088   \n",
      "617340            sao sebastiao                AL        -9.937363   \n",
      "211967                  goiânia                GO       -16.669842   \n",
      "344808  nova esperanca do piria                PA        -2.273923   \n",
      "397526               ponta porã                MS       -22.561156   \n",
      "17967                 araguaina                TO        -7.183814   \n",
      "363789                 pacatuba                CE        -3.900846   \n",
      "187533       fazenda rio grande                PR       -25.661052   \n",
      "14528                   aracaju                SE       -11.091204   \n",
      "299298                   loreto                MA        -7.086636   \n",
      "206729                   gaspar                SC       -26.932547   \n",
      "234950                  ibitita                BA       -11.540484   \n",
      "421326                   recife                PE        -8.084916   \n",
      "497236    santana do livramento                RS       -30.896727   \n",
      "370752              paranatinga                MT       -14.426861   \n",
      "5846               alto paraiso                RO        -9.718873   \n",
      "139223                    coari                AM        -4.091861   \n",
      "98682          caiçara do norte                RN        -5.063538   \n",
      "82436                  brasilia                DF       -15.865852   \n",
      "295718                 linhares                ES       -19.374829   \n",
      "317966           matias olimpio                PI        -3.720096   \n",
      "75355                 boa vista                RR         2.847171   \n",
      "302470                   macapá                AP         0.019974   \n",
      "433362               rio branco                AC        -9.930343   \n",
      "\n",
      "        geolocation_lng  payment_value  \n",
      "18090        -48.184221    2416.000000  \n",
      "453903       -43.188736    2337.231667  \n",
      "613440       -46.646961    2328.400000  \n",
      "385529       -37.920702    2324.990000  \n",
      "617340       -36.553110    2269.980000  \n",
      "211967       -49.336083    2267.280000  \n",
      "344808       -46.970453    2252.660000  \n",
      "397526       -55.689173    2133.690000  \n",
      "17967        -48.216694    2094.440000  \n",
      "363789       -38.599293    2053.970000  \n",
      "187533       -49.325017    1963.140000  \n",
      "14528        -37.136514    1729.980000  \n",
      "299298       -45.140384    1643.640000  \n",
      "206729       -48.956918    1621.615000  \n",
      "234950       -41.979082    1534.580000  \n",
      "421326       -34.930968    1381.310000  \n",
      "497236       -55.488059    1323.790000  \n",
      "370752       -54.052439    1287.160000  \n",
      "5846         -63.312955    1260.760000  \n",
      "139223       -63.147520    1259.040000  \n",
      "98682        -36.051730    1157.410000  \n",
      "82436        -48.025929    1125.580000  \n",
      "295718       -40.052094     963.340000  \n",
      "317966       -42.555678     841.400000  \n",
      "75355        -60.726677     596.560000  \n",
      "302470       -51.073709     569.025000  \n",
      "433362       -67.820819     532.583333  \n"
     ]
    }
   ],
   "source": [
    "# Gabungkan olist_orders_dataset dengan olist_customers_dataset\n",
    "orders_with_customers = pd.merge(\n",
    "    olist_orders_dataset,\n",
    "    olist_customers_dataset[['customer_id', 'customer_zip_code_prefix', 'customer_city', 'customer_state']],\n",
    "    on='customer_id',\n",
    "    how='left'\n",
    ")\n",
    "\n",
    "# Gabungkan dengan olist_order_payments_dataset\n",
    "orders_with_payments = pd.merge(\n",
    "    orders_with_customers,\n",
    "    olist_order_payments_dataset[['order_id', 'payment_value']],\n",
    "    on='order_id',\n",
    "    how='left'\n",
    ")\n",
    "\n",
    "# Gabungkan dengan olist_geolocation_dataset\n",
    "orders_with_geo = pd.merge(\n",
    "    orders_with_payments,\n",
    "    olist_geolocation_dataset[['geolocation_zip_code_prefix', 'geolocation_city', 'geolocation_state', 'geolocation_lat', 'geolocation_lng']],\n",
    "    left_on='customer_zip_code_prefix',\n",
    "    right_on='geolocation_zip_code_prefix',\n",
    "    how='left'\n",
    ")\n",
    "\n",
    "# Menghitung rata-rata payment value per kota dan negara bagian\n",
    "heatmap_data = orders_with_geo.groupby(['geolocation_city', 'geolocation_state', 'geolocation_lat', 'geolocation_lng'])['payment_value'].mean().reset_index()\n",
    "\n",
    "# Mengurutkan heatmap_data berdasarkan payment_value dari yang terbesar\n",
    "sorted_heatmap_data = heatmap_data.sort_values(by='payment_value', ascending=False)\n",
    "\n",
    "# Menghapus duplikat pada kolom 'geolocation_state' dengan mempertahankan baris pertama\n",
    "sorted_heatmap_data_clean = sorted_heatmap_data.drop_duplicates(subset=['geolocation_state'], keep='first')\n",
    "\n",
    "# Mencetak hasil yang sudah diurutkan (tanpa tanda kurung di belakang nama variabel)\n",
    "print(sorted_heatmap_data_clean)"
   ]
  },
  {
   "cell_type": "code",
   "execution_count": null,
   "metadata": {
    "colab": {
     "base_uri": "https://localhost:8080/",
     "height": 363
    },
    "id": "NfKT6ivZY6Cm",
    "outputId": "431a2ab8-3e8e-4484-bb29-153aae31ac9f"
   },
   "outputs": [
    {
     "data": {
      "application/vnd.google.colaboratory.intrinsic+json": {
       "summary": "{\n  \"name\": \"sorted_heatmap_data_clean\",\n  \"rows\": 27,\n  \"fields\": [\n    {\n      \"column\": \"geolocation_city\",\n      \"properties\": {\n        \"dtype\": \"string\",\n        \"num_unique_values\": 27,\n        \"samples\": [\n          \"araguaina\",\n          \"gaspar\",\n          \"pacatuba\"\n        ],\n        \"semantic_type\": \"\",\n        \"description\": \"\"\n      }\n    },\n    {\n      \"column\": \"geolocation_state\",\n      \"properties\": {\n        \"dtype\": \"string\",\n        \"num_unique_values\": 27,\n        \"samples\": [\n          \"TO\",\n          \"SC\",\n          \"CE\"\n        ],\n        \"semantic_type\": \"\",\n        \"description\": \"\"\n      }\n    },\n    {\n      \"column\": \"geolocation_lat\",\n      \"properties\": {\n        \"dtype\": \"number\",\n        \"std\": 8.922426152774023,\n        \"min\": -30.89672731287172,\n        \"max\": 2.8471714284267238,\n        \"num_unique_values\": 27,\n        \"samples\": [\n          -7.183814060777828,\n          -26.932547252597665,\n          -3.900845505904278\n        ],\n        \"semantic_type\": \"\",\n        \"description\": \"\"\n      }\n    },\n    {\n      \"column\": \"geolocation_lng\",\n      \"properties\": {\n        \"dtype\": \"number\",\n        \"std\": 8.986173166812355,\n        \"min\": -67.82081885636795,\n        \"max\": -34.93096763696693,\n        \"num_unique_values\": 27,\n        \"samples\": [\n          -48.21669401223685,\n          -48.95691757514654,\n          -38.59929334345368\n        ],\n        \"semantic_type\": \"\",\n        \"description\": \"\"\n      }\n    },\n    {\n      \"column\": \"payment_value\",\n      \"properties\": {\n        \"dtype\": \"number\",\n        \"std\": 605.7589104667211,\n        \"min\": 532.5833333333334,\n        \"max\": 2416.0,\n        \"num_unique_values\": 27,\n        \"samples\": [\n          2094.44,\n          1621.615,\n          2053.9700000000003\n        ],\n        \"semantic_type\": \"\",\n        \"description\": \"\"\n      }\n    }\n  ]\n}",
       "type": "dataframe",
       "variable_name": "sorted_heatmap_data_clean"
      },
      "text/html": [
       "\n",
       "  <div id=\"df-af7009bb-43a9-4b20-b1b5-89301a50e73c\" class=\"colab-df-container\">\n",
       "    <div>\n",
       "<style scoped>\n",
       "    .dataframe tbody tr th:only-of-type {\n",
       "        vertical-align: middle;\n",
       "    }\n",
       "\n",
       "    .dataframe tbody tr th {\n",
       "        vertical-align: top;\n",
       "    }\n",
       "\n",
       "    .dataframe thead th {\n",
       "        text-align: right;\n",
       "    }\n",
       "</style>\n",
       "<table border=\"1\" class=\"dataframe\">\n",
       "  <thead>\n",
       "    <tr style=\"text-align: right;\">\n",
       "      <th></th>\n",
       "      <th>geolocation_city</th>\n",
       "      <th>geolocation_state</th>\n",
       "      <th>geolocation_lat</th>\n",
       "      <th>geolocation_lng</th>\n",
       "      <th>payment_value</th>\n",
       "    </tr>\n",
       "  </thead>\n",
       "  <tbody>\n",
       "    <tr>\n",
       "      <th>18090</th>\n",
       "      <td>araguari</td>\n",
       "      <td>MG</td>\n",
       "      <td>-18.664473</td>\n",
       "      <td>-48.184221</td>\n",
       "      <td>2416.000000</td>\n",
       "    </tr>\n",
       "    <tr>\n",
       "      <th>453903</th>\n",
       "      <td>rio de janeiro</td>\n",
       "      <td>RJ</td>\n",
       "      <td>-22.903373</td>\n",
       "      <td>-43.188736</td>\n",
       "      <td>2337.231667</td>\n",
       "    </tr>\n",
       "    <tr>\n",
       "      <th>613440</th>\n",
       "      <td>sao paulo</td>\n",
       "      <td>SP</td>\n",
       "      <td>-23.457238</td>\n",
       "      <td>-46.646961</td>\n",
       "      <td>2328.400000</td>\n",
       "    </tr>\n",
       "    <tr>\n",
       "      <th>385529</th>\n",
       "      <td>pianco</td>\n",
       "      <td>PB</td>\n",
       "      <td>-7.199088</td>\n",
       "      <td>-37.920702</td>\n",
       "      <td>2324.990000</td>\n",
       "    </tr>\n",
       "    <tr>\n",
       "      <th>617340</th>\n",
       "      <td>sao sebastiao</td>\n",
       "      <td>AL</td>\n",
       "      <td>-9.937363</td>\n",
       "      <td>-36.553110</td>\n",
       "      <td>2269.980000</td>\n",
       "    </tr>\n",
       "    <tr>\n",
       "      <th>211967</th>\n",
       "      <td>goiânia</td>\n",
       "      <td>GO</td>\n",
       "      <td>-16.669842</td>\n",
       "      <td>-49.336083</td>\n",
       "      <td>2267.280000</td>\n",
       "    </tr>\n",
       "    <tr>\n",
       "      <th>344808</th>\n",
       "      <td>nova esperanca do piria</td>\n",
       "      <td>PA</td>\n",
       "      <td>-2.273923</td>\n",
       "      <td>-46.970453</td>\n",
       "      <td>2252.660000</td>\n",
       "    </tr>\n",
       "    <tr>\n",
       "      <th>397526</th>\n",
       "      <td>ponta porã</td>\n",
       "      <td>MS</td>\n",
       "      <td>-22.561156</td>\n",
       "      <td>-55.689173</td>\n",
       "      <td>2133.690000</td>\n",
       "    </tr>\n",
       "    <tr>\n",
       "      <th>17967</th>\n",
       "      <td>araguaina</td>\n",
       "      <td>TO</td>\n",
       "      <td>-7.183814</td>\n",
       "      <td>-48.216694</td>\n",
       "      <td>2094.440000</td>\n",
       "    </tr>\n",
       "    <tr>\n",
       "      <th>363789</th>\n",
       "      <td>pacatuba</td>\n",
       "      <td>CE</td>\n",
       "      <td>-3.900846</td>\n",
       "      <td>-38.599293</td>\n",
       "      <td>2053.970000</td>\n",
       "    </tr>\n",
       "  </tbody>\n",
       "</table>\n",
       "</div>\n",
       "    <div class=\"colab-df-buttons\">\n",
       "\n",
       "  <div class=\"colab-df-container\">\n",
       "    <button class=\"colab-df-convert\" onclick=\"convertToInteractive('df-af7009bb-43a9-4b20-b1b5-89301a50e73c')\"\n",
       "            title=\"Convert this dataframe to an interactive table.\"\n",
       "            style=\"display:none;\">\n",
       "\n",
       "  <svg xmlns=\"http://www.w3.org/2000/svg\" height=\"24px\" viewBox=\"0 -960 960 960\">\n",
       "    <path d=\"M120-120v-720h720v720H120Zm60-500h600v-160H180v160Zm220 220h160v-160H400v160Zm0 220h160v-160H400v160ZM180-400h160v-160H180v160Zm440 0h160v-160H620v160ZM180-180h160v-160H180v160Zm440 0h160v-160H620v160Z\"/>\n",
       "  </svg>\n",
       "    </button>\n",
       "\n",
       "  <style>\n",
       "    .colab-df-container {\n",
       "      display:flex;\n",
       "      gap: 12px;\n",
       "    }\n",
       "\n",
       "    .colab-df-convert {\n",
       "      background-color: #E8F0FE;\n",
       "      border: none;\n",
       "      border-radius: 50%;\n",
       "      cursor: pointer;\n",
       "      display: none;\n",
       "      fill: #1967D2;\n",
       "      height: 32px;\n",
       "      padding: 0 0 0 0;\n",
       "      width: 32px;\n",
       "    }\n",
       "\n",
       "    .colab-df-convert:hover {\n",
       "      background-color: #E2EBFA;\n",
       "      box-shadow: 0px 1px 2px rgba(60, 64, 67, 0.3), 0px 1px 3px 1px rgba(60, 64, 67, 0.15);\n",
       "      fill: #174EA6;\n",
       "    }\n",
       "\n",
       "    .colab-df-buttons div {\n",
       "      margin-bottom: 4px;\n",
       "    }\n",
       "\n",
       "    [theme=dark] .colab-df-convert {\n",
       "      background-color: #3B4455;\n",
       "      fill: #D2E3FC;\n",
       "    }\n",
       "\n",
       "    [theme=dark] .colab-df-convert:hover {\n",
       "      background-color: #434B5C;\n",
       "      box-shadow: 0px 1px 3px 1px rgba(0, 0, 0, 0.15);\n",
       "      filter: drop-shadow(0px 1px 2px rgba(0, 0, 0, 0.3));\n",
       "      fill: #FFFFFF;\n",
       "    }\n",
       "  </style>\n",
       "\n",
       "    <script>\n",
       "      const buttonEl =\n",
       "        document.querySelector('#df-af7009bb-43a9-4b20-b1b5-89301a50e73c button.colab-df-convert');\n",
       "      buttonEl.style.display =\n",
       "        google.colab.kernel.accessAllowed ? 'block' : 'none';\n",
       "\n",
       "      async function convertToInteractive(key) {\n",
       "        const element = document.querySelector('#df-af7009bb-43a9-4b20-b1b5-89301a50e73c');\n",
       "        const dataTable =\n",
       "          await google.colab.kernel.invokeFunction('convertToInteractive',\n",
       "                                                    [key], {});\n",
       "        if (!dataTable) return;\n",
       "\n",
       "        const docLinkHtml = 'Like what you see? Visit the ' +\n",
       "          '<a target=\"_blank\" href=https://colab.research.google.com/notebooks/data_table.ipynb>data table notebook</a>'\n",
       "          + ' to learn more about interactive tables.';\n",
       "        element.innerHTML = '';\n",
       "        dataTable['output_type'] = 'display_data';\n",
       "        await google.colab.output.renderOutput(dataTable, element);\n",
       "        const docLink = document.createElement('div');\n",
       "        docLink.innerHTML = docLinkHtml;\n",
       "        element.appendChild(docLink);\n",
       "      }\n",
       "    </script>\n",
       "  </div>\n",
       "\n",
       "\n",
       "<div id=\"df-37936384-b089-4984-a26d-b1b209b1ce29\">\n",
       "  <button class=\"colab-df-quickchart\" onclick=\"quickchart('df-37936384-b089-4984-a26d-b1b209b1ce29')\"\n",
       "            title=\"Suggest charts\"\n",
       "            style=\"display:none;\">\n",
       "\n",
       "<svg xmlns=\"http://www.w3.org/2000/svg\" height=\"24px\"viewBox=\"0 0 24 24\"\n",
       "     width=\"24px\">\n",
       "    <g>\n",
       "        <path d=\"M19 3H5c-1.1 0-2 .9-2 2v14c0 1.1.9 2 2 2h14c1.1 0 2-.9 2-2V5c0-1.1-.9-2-2-2zM9 17H7v-7h2v7zm4 0h-2V7h2v10zm4 0h-2v-4h2v4z\"/>\n",
       "    </g>\n",
       "</svg>\n",
       "  </button>\n",
       "\n",
       "<style>\n",
       "  .colab-df-quickchart {\n",
       "      --bg-color: #E8F0FE;\n",
       "      --fill-color: #1967D2;\n",
       "      --hover-bg-color: #E2EBFA;\n",
       "      --hover-fill-color: #174EA6;\n",
       "      --disabled-fill-color: #AAA;\n",
       "      --disabled-bg-color: #DDD;\n",
       "  }\n",
       "\n",
       "  [theme=dark] .colab-df-quickchart {\n",
       "      --bg-color: #3B4455;\n",
       "      --fill-color: #D2E3FC;\n",
       "      --hover-bg-color: #434B5C;\n",
       "      --hover-fill-color: #FFFFFF;\n",
       "      --disabled-bg-color: #3B4455;\n",
       "      --disabled-fill-color: #666;\n",
       "  }\n",
       "\n",
       "  .colab-df-quickchart {\n",
       "    background-color: var(--bg-color);\n",
       "    border: none;\n",
       "    border-radius: 50%;\n",
       "    cursor: pointer;\n",
       "    display: none;\n",
       "    fill: var(--fill-color);\n",
       "    height: 32px;\n",
       "    padding: 0;\n",
       "    width: 32px;\n",
       "  }\n",
       "\n",
       "  .colab-df-quickchart:hover {\n",
       "    background-color: var(--hover-bg-color);\n",
       "    box-shadow: 0 1px 2px rgba(60, 64, 67, 0.3), 0 1px 3px 1px rgba(60, 64, 67, 0.15);\n",
       "    fill: var(--button-hover-fill-color);\n",
       "  }\n",
       "\n",
       "  .colab-df-quickchart-complete:disabled,\n",
       "  .colab-df-quickchart-complete:disabled:hover {\n",
       "    background-color: var(--disabled-bg-color);\n",
       "    fill: var(--disabled-fill-color);\n",
       "    box-shadow: none;\n",
       "  }\n",
       "\n",
       "  .colab-df-spinner {\n",
       "    border: 2px solid var(--fill-color);\n",
       "    border-color: transparent;\n",
       "    border-bottom-color: var(--fill-color);\n",
       "    animation:\n",
       "      spin 1s steps(1) infinite;\n",
       "  }\n",
       "\n",
       "  @keyframes spin {\n",
       "    0% {\n",
       "      border-color: transparent;\n",
       "      border-bottom-color: var(--fill-color);\n",
       "      border-left-color: var(--fill-color);\n",
       "    }\n",
       "    20% {\n",
       "      border-color: transparent;\n",
       "      border-left-color: var(--fill-color);\n",
       "      border-top-color: var(--fill-color);\n",
       "    }\n",
       "    30% {\n",
       "      border-color: transparent;\n",
       "      border-left-color: var(--fill-color);\n",
       "      border-top-color: var(--fill-color);\n",
       "      border-right-color: var(--fill-color);\n",
       "    }\n",
       "    40% {\n",
       "      border-color: transparent;\n",
       "      border-right-color: var(--fill-color);\n",
       "      border-top-color: var(--fill-color);\n",
       "    }\n",
       "    60% {\n",
       "      border-color: transparent;\n",
       "      border-right-color: var(--fill-color);\n",
       "    }\n",
       "    80% {\n",
       "      border-color: transparent;\n",
       "      border-right-color: var(--fill-color);\n",
       "      border-bottom-color: var(--fill-color);\n",
       "    }\n",
       "    90% {\n",
       "      border-color: transparent;\n",
       "      border-bottom-color: var(--fill-color);\n",
       "    }\n",
       "  }\n",
       "</style>\n",
       "\n",
       "  <script>\n",
       "    async function quickchart(key) {\n",
       "      const quickchartButtonEl =\n",
       "        document.querySelector('#' + key + ' button');\n",
       "      quickchartButtonEl.disabled = true;  // To prevent multiple clicks.\n",
       "      quickchartButtonEl.classList.add('colab-df-spinner');\n",
       "      try {\n",
       "        const charts = await google.colab.kernel.invokeFunction(\n",
       "            'suggestCharts', [key], {});\n",
       "      } catch (error) {\n",
       "        console.error('Error during call to suggestCharts:', error);\n",
       "      }\n",
       "      quickchartButtonEl.classList.remove('colab-df-spinner');\n",
       "      quickchartButtonEl.classList.add('colab-df-quickchart-complete');\n",
       "    }\n",
       "    (() => {\n",
       "      let quickchartButtonEl =\n",
       "        document.querySelector('#df-37936384-b089-4984-a26d-b1b209b1ce29 button');\n",
       "      quickchartButtonEl.style.display =\n",
       "        google.colab.kernel.accessAllowed ? 'block' : 'none';\n",
       "    })();\n",
       "  </script>\n",
       "</div>\n",
       "\n",
       "    </div>\n",
       "  </div>\n"
      ],
      "text/plain": [
       "               geolocation_city geolocation_state  geolocation_lat  \\\n",
       "18090                  araguari                MG       -18.664473   \n",
       "453903           rio de janeiro                RJ       -22.903373   \n",
       "613440                sao paulo                SP       -23.457238   \n",
       "385529                   pianco                PB        -7.199088   \n",
       "617340            sao sebastiao                AL        -9.937363   \n",
       "211967                  goiânia                GO       -16.669842   \n",
       "344808  nova esperanca do piria                PA        -2.273923   \n",
       "397526               ponta porã                MS       -22.561156   \n",
       "17967                 araguaina                TO        -7.183814   \n",
       "363789                 pacatuba                CE        -3.900846   \n",
       "\n",
       "        geolocation_lng  payment_value  \n",
       "18090        -48.184221    2416.000000  \n",
       "453903       -43.188736    2337.231667  \n",
       "613440       -46.646961    2328.400000  \n",
       "385529       -37.920702    2324.990000  \n",
       "617340       -36.553110    2269.980000  \n",
       "211967       -49.336083    2267.280000  \n",
       "344808       -46.970453    2252.660000  \n",
       "397526       -55.689173    2133.690000  \n",
       "17967        -48.216694    2094.440000  \n",
       "363789       -38.599293    2053.970000  "
      ]
     },
     "execution_count": 24,
     "metadata": {},
     "output_type": "execute_result"
    }
   ],
   "source": [
    "sorted_heatmap_data_clean.head(10)"
   ]
  },
  {
   "cell_type": "markdown",
   "metadata": {
    "id": "dZXc06wXooc4"
   },
   "source": [
    "**Insight**\n",
    "\n",
    "- Kinerja Pembayaran per Kota dan Negara Bagian: Hasil analisis menunjukkan rata-rata nilai pembayaran per kota di Brasil yang sudah dihitung berdasarkan data gabungan antara pesanan, pelanggan, pembayaran, dan geolokasi. Kota-kota dengan rata-rata pembayaran tertinggi memberikan gambaran yang jelas tentang lokasi strategis yang memberikan kontribusi besar terhadap pendapatan."
   ]
  },
  {
   "cell_type": "code",
   "execution_count": null,
   "metadata": {
    "id": "QHSlncWAwgj_"
   },
   "outputs": [],
   "source": [
    "# Save the cleaned dataset to a CSV file\n",
    "sorted_heatmap_data_clean.to_csv('heatmap_data_cleaned.csv', index=False)"
   ]
  },
  {
   "cell_type": "markdown",
   "metadata": {
    "id": "Wzz7wywaqWEK"
   },
   "source": [
    "## Visualization & Explanatory Analysis"
   ]
  },
  {
   "cell_type": "markdown",
   "metadata": {
    "id": "lAng81fx1Pey"
   },
   "source": [
    "### Pertanyaan 1:"
   ]
  },
  {
   "cell_type": "markdown",
   "metadata": {
    "id": "gFfeXFlUjQ5_"
   },
   "source": [
    "Selama penjualan bulanan 2016-2018, apakah ada tren tertentu yang terbentuk?"
   ]
  },
  {
   "cell_type": "code",
   "execution_count": null,
   "metadata": {
    "colab": {
     "base_uri": "https://localhost:8080/",
     "height": 601
    },
    "id": "0e3C0ADNyreS",
    "outputId": "3b10e90b-1957-4f75-c762-8954922fec43"
   },
   "outputs": [
    {
     "data": {
      "image/png": "[encoded data removed]",
      "text/plain": [
       "<Figure size 1200x600 with 1 Axes>"
      ]
     },
     "metadata": {},
     "output_type": "display_data"
    }
   ],
   "source": [
    "# Assuming 'monthly_order_counts' is already calculated as in your provided code\n",
    "plt.figure(figsize=(12, 6))\n",
    "monthly_order_counts.plot(kind='line', marker='o')\n",
    "plt.title('Monthly Order Counts')\n",
    "plt.xlabel('Year-Month')\n",
    "plt.ylabel('Number of Orders')\n",
    "plt.grid(True)\n",
    "plt.xticks(rotation=45)\n",
    "plt.tight_layout()\n",
    "plt.show()"
   ]
  },
  {
   "cell_type": "markdown",
   "metadata": {
    "id": "uuCyHZIkebys"
   },
   "source": [
    "**Insight**\n",
    "\n",
    "\n",
    "\n",
    "*   Terdapat peningkatan pesanan yang sangat signifikan, terutama mulai dari Maret 2017. Ini menunjukkan bahwa bisnis mungkin mulai mendapatkan traction dan menarik lebih banyak pelanggan di bulan-bulan tersebut.\n",
    "*   Setelah awal 2017, ada tren naik yang cukup konsisten dalam volume pesanan bulanan. Meskipun ada beberapa fluktuasi, jumlah pesanan cenderung stabil dan meningkat secara keseluruhan.\n",
    "Sebagai contoh, bulan Desember 2017 mengalami penurunan pesanan ke 5.513, yang mungkin disebabkan oleh faktor musiman (seperti persaingan dengan holiday sales).\n",
    "*   Meskipun terjadi penurunan di bulan Desember 2017, jumlah pesanan tetap berada di atas rata-rata yang tercatat di bulan-bulan awal 2017. Hal ini menunjukkan bahwa bisnis mampu mempertahankan sebagian besar pelanggan bahkan setelah periode puncak.\n",
    "\n"
   ]
  },
  {
   "cell_type": "markdown",
   "metadata": {
    "id": "O8yNa40L1VJZ"
   },
   "source": [
    "### Pertanyaan 2:"
   ]
  },
  {
   "cell_type": "markdown",
   "metadata": {
    "id": "5oYw6740dPdW"
   },
   "source": [
    "### Metode pembayaran mana yang paling efektif untuk strategi promosi dalam menarik pelanggan baru dan meningkatkan penjualan?"
   ]
  },
  {
   "cell_type": "code",
   "execution_count": null,
   "metadata": {
    "colab": {
     "base_uri": "https://localhost:8080/",
     "height": 1000
    },
    "id": "irTR8MweyzPa",
    "outputId": "aa2753e5-6590-4bf7-d9c8-5b6b445a2a5c"
   },
   "outputs": [
    {
     "data": {
      "image/png": "[encoded data removed]",
      "text/plain": [
       "<Figure size 1000x1000 with 1 Axes>"
      ]
     },
     "metadata": {},
     "output_type": "display_data"
    }
   ],
   "source": [
    "# Create a pie chart for payment type distribution\n",
    "plt.figure(figsize=(10, 10))  # Size of the figure\n",
    "\n",
    "# Create the pie chart with percentages inside\n",
    "wedges, texts, autotexts = plt.pie(\n",
    "    payment_type_counts,\n",
    "    startangle=90,\n",
    "    autopct='%1.1f%%',  # Percentage inside the pie\n",
    "    colors=plt.cm.tab10.colors  # Use a colormap for better color diversity\n",
    ")\n",
    "\n",
    "# Generate legend labels with percentages\n",
    "percentages = [f\"{payment_type}: {count/sum(payment_type_counts)*100:.1f}%\" for payment_type, count in zip(payment_type_counts.index, payment_type_counts)]\n",
    "plt.legend(percentages, title=\"Payment Types\", loc=\"upper left\", bbox_to_anchor=(1, 1))\n",
    "\n",
    "# Title for the pie chart\n",
    "plt.title('Distribution of Payment Types')\n",
    "\n",
    "# Equal aspect ratio ensures that the pie is drawn as a circle\n",
    "plt.axis('equal')\n",
    "\n",
    "# Adjust the layout to avoid clipping the legend\n",
    "plt.tight_layout()\n",
    "\n",
    "# Ensure autotext size is adjustable\n",
    "for text in autotexts:\n",
    "    text.set_size(12)  # Adjust the size of the percentage text\n",
    "\n",
    "plt.show()"
   ]
  },
  {
   "cell_type": "markdown",
   "metadata": {
    "id": "vXooRuShbpkd"
   },
   "source": [
    "**Insight**\n",
    "\n",
    "- Pembayaran menggunakan kartu kredit menjadi metode yang paling populer, dengan 76.795 transaksi, yang mencerminkan preferensi di antara pelanggan untuk metode pembayaran yang cepat dan mudah, sehingga strategi pemasaran dapat dipersonalisasi untuk memaksimalkan penggunaan metode pembayaran yang lebih populer, seperti kartu kredit dan boleto\n"
   ]
  },
  {
   "cell_type": "markdown",
   "metadata": {
    "id": "LCuQ-EXx1Wqp"
   },
   "source": [
    "### Pertanyaan 3:"
   ]
  },
  {
   "cell_type": "markdown",
   "metadata": {
    "id": "30yKUpA4ar8R"
   },
   "source": [
    "### Kota bagian mana yang memiliki potensi pasar terbesar berdasarkan jumlah pelanggan?"
   ]
  },
  {
   "cell_type": "code",
   "execution_count": null,
   "metadata": {
    "colab": {
     "base_uri": "https://localhost:8080/",
     "height": 573
    },
    "id": "ojNMqn25x-uu",
    "outputId": "45108067-88dc-4c64-b77f-9facaaddb3de"
   },
   "outputs": [
    {
     "data": {
      "image/png": "[encoded data removed]",
      "text/plain": [
       "<Figure size 1000x600 with 1 Axes>"
      ]
     },
     "metadata": {},
     "output_type": "display_data"
    }
   ],
   "source": [
    "plt.figure(figsize=(10, 6))\n",
    "sns.barplot(x=state_counts.head().index, y=state_counts.head().values)\n",
    "plt.title('Top 5 kota berdasarkan banyaknya customer')\n",
    "plt.xlabel('State')\n",
    "plt.ylabel('Number of Customers')\n",
    "plt.show()"
   ]
  },
  {
   "cell_type": "markdown",
   "metadata": {
    "id": "Z2lbWN4yZ8YJ"
   },
   "source": [
    "**Insight**\n",
    "\n",
    "*   São Paulo merupakan kota yang paling dominan dalam hal jumlah pelanggan, menunjukkan potensi pasar yang besar diperkuat oleh padatnya penduduk dan berkembangnya pusat ekonomi.\n",
    "\n",
    "*   Kota lain, seperti Rio de Janeiro dan Minas Gerais, juga memiliki basis customer yang signifikan, yang menunjukkan adanya peluang bisnis yang tinggi di kawasan ini.\n"
   ]
  },
  {
   "cell_type": "markdown",
   "metadata": {
    "id": "onPgT5aoqawB"
   },
   "source": [
    "### Pertanyaan 4:"
   ]
  },
  {
   "cell_type": "markdown",
   "metadata": {
    "id": "eMo9mbacPQuJ"
   },
   "source": [
    "Bagaimana proporsi pelanggan dalam setiap kategori pengeluaran berdasarkan analisis RFM selama tahun 2016 sampai 2018?\n",
    "\n"
   ]
  },
  {
   "cell_type": "code",
   "execution_count": null,
   "metadata": {
    "colab": {
     "base_uri": "https://localhost:8080/",
     "height": 601
    },
    "id": "E40qqCTUbaJ_",
    "outputId": "2afcc872-1398-4432-a739-734bd21db67a"
   },
   "outputs": [
    {
     "data": {
      "image/png": "[encoded data removed]",
      "text/plain": [
       "<Figure size 1000x600 with 1 Axes>"
      ]
     },
     "metadata": {},
     "output_type": "display_data"
    }
   ],
   "source": [
    "# Menghitung jumlah pelanggan dalam setiap kategori\n",
    "category_counts = rfm_df['Customer_Category'].value_counts().reset_index()\n",
    "category_counts.columns = ['Customer_Category', 'Count']\n",
    "\n",
    "# Mengatur ukuran gambar\n",
    "plt.figure(figsize=(10, 6))\n",
    "\n",
    "# Membuat bar plot dengan warna yang sama tetapi berbeda opasitas\n",
    "single_color = (0.2, 0.6, 0.8)  # Contoh warna dalam format RGB (biru muda)\n",
    "bar_plot = sns.barplot(data=category_counts,\n",
    "                       x='Customer_Category',\n",
    "                       y='Count',\n",
    "                       color=single_color)  # Menggunakan warna yang sama\n",
    "\n",
    "# Menambahkan judul dan label\n",
    "plt.title('Distribusi Pelanggan Berdasarkan Kategori RFM', fontsize=16)\n",
    "plt.xlabel('Kategori Pelanggan', fontsize=14)\n",
    "plt.ylabel('Jumlah Pelanggan', fontsize=14)\n",
    "\n",
    "# Menampilkan nilai di atas setiap bar dengan jarak tambahan\n",
    "for p in bar_plot.patches:\n",
    "    bar_plot.annotate(f'{int(p.get_height())}',\n",
    "                      (p.get_x() + p.get_width() / 2., p.get_height()),\n",
    "                      ha='center', va='bottom',\n",
    "                      fontsize=12, color='black',\n",
    "                      xytext=(0, 0),  # Mengubah offset untuk membuat label lebih terlihat\n",
    "                      textcoords='offset points')\n",
    "\n",
    "# Menampilkan plot\n",
    "plt.xticks(rotation=45)\n",
    "plt.tight_layout()  # Mengatur layout agar tampak lebih baik\n",
    "plt.show()"
   ]
  },
  {
   "cell_type": "markdown",
   "metadata": {
    "id": "ZVK88ROMd9X3"
   },
   "source": [
    "**Insight**\n",
    "\n",
    "Berdasarkan analisis RFM selama tahun 2016 sampai 2018, kami menemukan bahwa jumlah pelanggan terdistribusi dalam beberapa kategori:\n",
    "\n",
    "\n",
    "\n",
    "*   VIP Customers: 257 pelanggan\n",
    "*   Valuable Customers: 19,281 pelanggan\n",
    "*   Moderate Customers: 31,007 pelanggan\n",
    "*   Low Value Customers: 45,916 pelanggan\n",
    "\n",
    "\n",
    "Dari total pelanggan yang teridentifikasi, Low Value Customers merupakan kategori dengan jumlah terbesar, yang mungkin menunjukkan bahwa ada peluang untuk meningkatkan hubungan dengan mereka untuk meningkatkan nilai Customer Lifetime Value. Sementara itu, proporsi kecil dari VIP Customers menunjukkan bahwa ada potensi untuk mengembangkan program loyalitas atau kampanye pemasaran yang lebih terfokus pada segmen-segmen ini untuk menjaga kepuasan pelanggan."
   ]
  },
  {
   "cell_type": "markdown",
   "metadata": {
    "id": "2OhmRxg7qbWb"
   },
   "source": [
    "### Pertanyaan 5:"
   ]
  },
  {
   "cell_type": "markdown",
   "metadata": {
    "id": "dJY2mWJXPJQg"
   },
   "source": [
    "Dimana saja lokasi pelanggan di Brasil yang memberikan kontribusi terbesar terhadap nilai pembayaran selama tahun 2016 sampai 2018?\n",
    "\n"
   ]
  },
  {
   "cell_type": "code",
   "execution_count": null,
   "metadata": {
    "colab": {
     "base_uri": "https://localhost:8080/",
     "height": 801
    },
    "id": "LYEfBSI_aq2Y",
    "outputId": "e384632d-5dd2-41da-f4b8-c1910bc8d1e9"
   },
   "outputs": [
    {
     "data": {
      "image/png": "[encoded data removed]",
      "text/plain": [
       "<Figure size 1200x800 with 1 Axes>"
      ]
     },
     "metadata": {},
     "output_type": "display_data"
    }
   ],
   "source": [
    "import matplotlib.pyplot as plt\n",
    "import seaborn as sns\n",
    "\n",
    "# Mengatur ukuran gambar\n",
    "plt.figure(figsize=(12, 8))\n",
    "\n",
    "# Mengambil 10 kota teratas\n",
    "top_10_cities = sorted_heatmap_data_clean.sort_values(by='payment_value', ascending=False).head(10)\n",
    "\n",
    "# Membuat bar plot dengan warna yang sama tetapi berbeda opasitas\n",
    "# Define a single color\n",
    "single_color = (0.2, 0.6, 0.8)  # Example RGB color (light blue)\n",
    "\n",
    "# Create bar plot using a single color\n",
    "bar_plot = sns.barplot(data=top_10_cities,\n",
    "                       x='geolocation_city',\n",
    "                       y='payment_value',\n",
    "                       color=single_color)  # Set a single color\n",
    "\n",
    "# Menambahkan judul dan label\n",
    "plt.title('10 Kota dengan Rata-rata Nilai Pembayaran Tertinggi di Brasil', fontsize=16)\n",
    "plt.xlabel('Kota', fontsize=14)\n",
    "plt.ylabel('Rata-rata Nilai Pembayaran', fontsize=14)\n",
    "\n",
    "# Menampilkan nilai di atas setiap bar\n",
    "for p in bar_plot.patches:\n",
    "    bar_plot.annotate(f'{p.get_height():.2f}',\n",
    "                      (p.get_x() + p.get_width() / 2., p.get_height()),\n",
    "                      ha='center', va='bottom',\n",
    "                      fontsize=10, color='black',\n",
    "                      xytext=(0, 5),  # Offset untuk menjauhkan label dari bar\n",
    "                      textcoords='offset points')\n",
    "\n",
    "# Memputar label x untuk keterbacaan\n",
    "plt.xticks(rotation=45)\n",
    "plt.tight_layout()\n",
    "plt.show()\n"
   ]
  },
  {
   "cell_type": "code",
   "execution_count": null,
   "metadata": {
    "colab": {
     "base_uri": "https://localhost:8080/",
     "height": 757
    },
    "id": "x71xAPBNsmYs",
    "outputId": "6deec495-29cb-448f-fdc4-247ee41611c3"
   },
   "outputs": [
    {
     "data": {
      "text/html": [
       "<div style=\"width:100%;\"><div style=\"position:relative;width:100%;height:0;padding-bottom:60%;\"><span style=\"color:#565656\">Make this Notebook Trusted to load map: File -> Trust Notebook</span><iframe srcdoc=\"&lt;!DOCTYPE html&gt;\n",
       "&lt;html&gt;\n",
       "&lt;head&gt;\n",
       "    \n",
       "    &lt;meta http-equiv=&quot;content-type&quot; content=&quot;text/html; charset=UTF-8&quot; /&gt;\n",
       "    \n",
       "        &lt;script&gt;\n",
       "            L_NO_TOUCH = false;\n",
       "            L_DISABLE_3D = false;\n",
       "        &lt;/script&gt;\n",
       "    \n",
       "    &lt;style&gt;html, body {width: 100%;height: 100%;margin: 0;padding: 0;}&lt;/style&gt;\n",
       "    &lt;style&gt;#map {position:absolute;top:0;bottom:0;right:0;left:0;}&lt;/style&gt;\n",
       "    &lt;script src=&quot;https://cdn.jsdelivr.net/npm/leaflet@1.9.3/dist/leaflet.js&quot;&gt;&lt;/script&gt;\n",
       "    &lt;script src=&quot;https://code.jquery.com/jquery-3.7.1.min.js&quot;&gt;&lt;/script&gt;\n",
       "    &lt;script src=&quot;https://cdn.jsdelivr.net/npm/bootstrap@5.2.2/dist/js/bootstrap.bundle.min.js&quot;&gt;&lt;/script&gt;\n",
       "    &lt;script src=&quot;https://cdnjs.cloudflare.com/ajax/libs/Leaflet.awesome-markers/2.0.2/leaflet.awesome-markers.js&quot;&gt;&lt;/script&gt;\n",
       "    &lt;link rel=&quot;stylesheet&quot; href=&quot;https://cdn.jsdelivr.net/npm/leaflet@1.9.3/dist/leaflet.css&quot;/&gt;\n",
       "    &lt;link rel=&quot;stylesheet&quot; href=&quot;https://cdn.jsdelivr.net/npm/bootstrap@5.2.2/dist/css/bootstrap.min.css&quot;/&gt;\n",
       "    &lt;link rel=&quot;stylesheet&quot; href=&quot;https://netdna.bootstrapcdn.com/bootstrap/3.0.0/css/bootstrap-glyphicons.css&quot;/&gt;\n",
       "    &lt;link rel=&quot;stylesheet&quot; href=&quot;https://cdn.jsdelivr.net/npm/@fortawesome/fontawesome-free@6.2.0/css/all.min.css&quot;/&gt;\n",
       "    &lt;link rel=&quot;stylesheet&quot; href=&quot;https://cdnjs.cloudflare.com/ajax/libs/Leaflet.awesome-markers/2.0.2/leaflet.awesome-markers.css&quot;/&gt;\n",
       "    &lt;link rel=&quot;stylesheet&quot; href=&quot;https://cdn.jsdelivr.net/gh/python-visualization/folium/folium/templates/leaflet.awesome.rotate.min.css&quot;/&gt;\n",
       "    \n",
       "            &lt;meta name=&quot;viewport&quot; content=&quot;width=device-width,\n",
       "                initial-scale=1.0, maximum-scale=1.0, user-scalable=no&quot; /&gt;\n",
       "            &lt;style&gt;\n",
       "                #map_4ea0c5da9f957c32c053e73cd254ea8c {\n",
       "                    position: relative;\n",
       "                    width: 100.0%;\n",
       "                    height: 100.0%;\n",
       "                    left: 0.0%;\n",
       "                    top: 0.0%;\n",
       "                }\n",
       "                .leaflet-container { font-size: 1rem; }\n",
       "            &lt;/style&gt;\n",
       "        \n",
       "    &lt;script src=&quot;https://cdnjs.cloudflare.com/ajax/libs/leaflet.markercluster/1.1.0/leaflet.markercluster.js&quot;&gt;&lt;/script&gt;\n",
       "    &lt;link rel=&quot;stylesheet&quot; href=&quot;https://cdnjs.cloudflare.com/ajax/libs/leaflet.markercluster/1.1.0/MarkerCluster.css&quot;/&gt;\n",
       "    &lt;link rel=&quot;stylesheet&quot; href=&quot;https://cdnjs.cloudflare.com/ajax/libs/leaflet.markercluster/1.1.0/MarkerCluster.Default.css&quot;/&gt;\n",
       "&lt;/head&gt;\n",
       "&lt;body&gt;\n",
       "    \n",
       "    \n",
       "            &lt;div class=&quot;folium-map&quot; id=&quot;map_4ea0c5da9f957c32c053e73cd254ea8c&quot; &gt;&lt;/div&gt;\n",
       "        \n",
       "&lt;/body&gt;\n",
       "&lt;script&gt;\n",
       "    \n",
       "    \n",
       "            var map_4ea0c5da9f957c32c053e73cd254ea8c = L.map(\n",
       "                &quot;map_4ea0c5da9f957c32c053e73cd254ea8c&quot;,\n",
       "                {\n",
       "                    center: [-15.7801, -47.9292],\n",
       "                    crs: L.CRS.EPSG3857,\n",
       "                    zoom: 4,\n",
       "                    zoomControl: true,\n",
       "                    preferCanvas: false,\n",
       "                }\n",
       "            );\n",
       "\n",
       "            \n",
       "\n",
       "        \n",
       "    \n",
       "            var tile_layer_b7fc91e396bad0d8fb6d679f08532cc3 = L.tileLayer(\n",
       "                &quot;https://tile.openstreetmap.org/{z}/{x}/{y}.png&quot;,\n",
       "                {&quot;attribution&quot;: &quot;\\u0026copy; \\u003ca href=\\&quot;https://www.openstreetmap.org/copyright\\&quot;\\u003eOpenStreetMap\\u003c/a\\u003e contributors&quot;, &quot;detectRetina&quot;: false, &quot;maxNativeZoom&quot;: 19, &quot;maxZoom&quot;: 19, &quot;minZoom&quot;: 0, &quot;noWrap&quot;: false, &quot;opacity&quot;: 1, &quot;subdomains&quot;: &quot;abc&quot;, &quot;tms&quot;: false}\n",
       "            );\n",
       "        \n",
       "    \n",
       "            tile_layer_b7fc91e396bad0d8fb6d679f08532cc3.addTo(map_4ea0c5da9f957c32c053e73cd254ea8c);\n",
       "        \n",
       "    \n",
       "            var marker_cluster_d650f73e4fd3fda988958bc5f23cc740 = L.markerClusterGroup(\n",
       "                {}\n",
       "            );\n",
       "        \n",
       "    \n",
       "            var circle_marker_d9f713378f808d4d6c874b68b3a2d1f9 = L.circleMarker(\n",
       "                [-18.66447251130228, -48.18422087474431],\n",
       "                {&quot;bubblingMouseEvents&quot;: true, &quot;color&quot;: &quot;blue&quot;, &quot;dashArray&quot;: null, &quot;dashOffset&quot;: null, &quot;fill&quot;: true, &quot;fillColor&quot;: &quot;blue&quot;, &quot;fillOpacity&quot;: 0.6, &quot;fillRule&quot;: &quot;evenodd&quot;, &quot;lineCap&quot;: &quot;round&quot;, &quot;lineJoin&quot;: &quot;round&quot;, &quot;opacity&quot;: 1.0, &quot;radius&quot;: 24.16, &quot;stroke&quot;: true, &quot;weight&quot;: 3}\n",
       "            ).addTo(marker_cluster_d650f73e4fd3fda988958bc5f23cc740);\n",
       "        \n",
       "    \n",
       "        var popup_f74348df4c5ef6352430f5149dbc0fc3 = L.popup({&quot;maxWidth&quot;: &quot;100%&quot;});\n",
       "\n",
       "        \n",
       "            \n",
       "                var html_7184fdbf03b2fa3425a0fcb386266491 = $(`&lt;div id=&quot;html_7184fdbf03b2fa3425a0fcb386266491&quot; style=&quot;width: 100.0%; height: 100.0%;&quot;&gt;araguari: 2416.00&lt;/div&gt;`)[0];\n",
       "                popup_f74348df4c5ef6352430f5149dbc0fc3.setContent(html_7184fdbf03b2fa3425a0fcb386266491);\n",
       "            \n",
       "        \n",
       "\n",
       "        circle_marker_d9f713378f808d4d6c874b68b3a2d1f9.bindPopup(popup_f74348df4c5ef6352430f5149dbc0fc3)\n",
       "        ;\n",
       "\n",
       "        \n",
       "    \n",
       "    \n",
       "            var circle_marker_ca33e09492bf1e582fb64b935193e14f = L.circleMarker(\n",
       "                [-22.903372534964117, -43.18873569533812],\n",
       "                {&quot;bubblingMouseEvents&quot;: true, &quot;color&quot;: &quot;blue&quot;, &quot;dashArray&quot;: null, &quot;dashOffset&quot;: null, &quot;fill&quot;: true, &quot;fillColor&quot;: &quot;blue&quot;, &quot;fillOpacity&quot;: 0.6, &quot;fillRule&quot;: &quot;evenodd&quot;, &quot;lineCap&quot;: &quot;round&quot;, &quot;lineJoin&quot;: &quot;round&quot;, &quot;opacity&quot;: 1.0, &quot;radius&quot;: 23.372316666666666, &quot;stroke&quot;: true, &quot;weight&quot;: 3}\n",
       "            ).addTo(marker_cluster_d650f73e4fd3fda988958bc5f23cc740);\n",
       "        \n",
       "    \n",
       "        var popup_2c909f048e3985f24aa49234681d5879 = L.popup({&quot;maxWidth&quot;: &quot;100%&quot;});\n",
       "\n",
       "        \n",
       "            \n",
       "                var html_5f10f69161bdb016d5576f94991b5aac = $(`&lt;div id=&quot;html_5f10f69161bdb016d5576f94991b5aac&quot; style=&quot;width: 100.0%; height: 100.0%;&quot;&gt;rio de janeiro: 2337.23&lt;/div&gt;`)[0];\n",
       "                popup_2c909f048e3985f24aa49234681d5879.setContent(html_5f10f69161bdb016d5576f94991b5aac);\n",
       "            \n",
       "        \n",
       "\n",
       "        circle_marker_ca33e09492bf1e582fb64b935193e14f.bindPopup(popup_2c909f048e3985f24aa49234681d5879)\n",
       "        ;\n",
       "\n",
       "        \n",
       "    \n",
       "    \n",
       "            var circle_marker_1d74ec16538adc133d585cbb532e8cc1 = L.circleMarker(\n",
       "                [-23.45723770552253, -46.64696064723873],\n",
       "                {&quot;bubblingMouseEvents&quot;: true, &quot;color&quot;: &quot;blue&quot;, &quot;dashArray&quot;: null, &quot;dashOffset&quot;: null, &quot;fill&quot;: true, &quot;fillColor&quot;: &quot;blue&quot;, &quot;fillOpacity&quot;: 0.6, &quot;fillRule&quot;: &quot;evenodd&quot;, &quot;lineCap&quot;: &quot;round&quot;, &quot;lineJoin&quot;: &quot;round&quot;, &quot;opacity&quot;: 1.0, &quot;radius&quot;: 23.284000000000002, &quot;stroke&quot;: true, &quot;weight&quot;: 3}\n",
       "            ).addTo(marker_cluster_d650f73e4fd3fda988958bc5f23cc740);\n",
       "        \n",
       "    \n",
       "        var popup_9787104f9fa6a740fc01c0e5b6964169 = L.popup({&quot;maxWidth&quot;: &quot;100%&quot;});\n",
       "\n",
       "        \n",
       "            \n",
       "                var html_6e9e208fee14e434b47a9d3a8ff433d1 = $(`&lt;div id=&quot;html_6e9e208fee14e434b47a9d3a8ff433d1&quot; style=&quot;width: 100.0%; height: 100.0%;&quot;&gt;sao paulo: 2328.40&lt;/div&gt;`)[0];\n",
       "                popup_9787104f9fa6a740fc01c0e5b6964169.setContent(html_6e9e208fee14e434b47a9d3a8ff433d1);\n",
       "            \n",
       "        \n",
       "\n",
       "        circle_marker_1d74ec16538adc133d585cbb532e8cc1.bindPopup(popup_9787104f9fa6a740fc01c0e5b6964169)\n",
       "        ;\n",
       "\n",
       "        \n",
       "    \n",
       "    \n",
       "            var circle_marker_001139d89e3cdb1a405663989854b4d3 = L.circleMarker(\n",
       "                [-7.199087606349144, -37.9207019331257],\n",
       "                {&quot;bubblingMouseEvents&quot;: true, &quot;color&quot;: &quot;blue&quot;, &quot;dashArray&quot;: null, &quot;dashOffset&quot;: null, &quot;fill&quot;: true, &quot;fillColor&quot;: &quot;blue&quot;, &quot;fillOpacity&quot;: 0.6, &quot;fillRule&quot;: &quot;evenodd&quot;, &quot;lineCap&quot;: &quot;round&quot;, &quot;lineJoin&quot;: &quot;round&quot;, &quot;opacity&quot;: 1.0, &quot;radius&quot;: 23.249899999999997, &quot;stroke&quot;: true, &quot;weight&quot;: 3}\n",
       "            ).addTo(marker_cluster_d650f73e4fd3fda988958bc5f23cc740);\n",
       "        \n",
       "    \n",
       "        var popup_3ca776e4debaf2c012eaa264c1822f2d = L.popup({&quot;maxWidth&quot;: &quot;100%&quot;});\n",
       "\n",
       "        \n",
       "            \n",
       "                var html_667b0aacf5c14d98502c4e7ba9e901fe = $(`&lt;div id=&quot;html_667b0aacf5c14d98502c4e7ba9e901fe&quot; style=&quot;width: 100.0%; height: 100.0%;&quot;&gt;pianco: 2324.99&lt;/div&gt;`)[0];\n",
       "                popup_3ca776e4debaf2c012eaa264c1822f2d.setContent(html_667b0aacf5c14d98502c4e7ba9e901fe);\n",
       "            \n",
       "        \n",
       "\n",
       "        circle_marker_001139d89e3cdb1a405663989854b4d3.bindPopup(popup_3ca776e4debaf2c012eaa264c1822f2d)\n",
       "        ;\n",
       "\n",
       "        \n",
       "    \n",
       "    \n",
       "            var circle_marker_6b848c1e93d407b51ea6fb9603ed8800 = L.circleMarker(\n",
       "                [-9.937362587053643, -36.55310979364832],\n",
       "                {&quot;bubblingMouseEvents&quot;: true, &quot;color&quot;: &quot;blue&quot;, &quot;dashArray&quot;: null, &quot;dashOffset&quot;: null, &quot;fill&quot;: true, &quot;fillColor&quot;: &quot;blue&quot;, &quot;fillOpacity&quot;: 0.6, &quot;fillRule&quot;: &quot;evenodd&quot;, &quot;lineCap&quot;: &quot;round&quot;, &quot;lineJoin&quot;: &quot;round&quot;, &quot;opacity&quot;: 1.0, &quot;radius&quot;: 22.6998, &quot;stroke&quot;: true, &quot;weight&quot;: 3}\n",
       "            ).addTo(marker_cluster_d650f73e4fd3fda988958bc5f23cc740);\n",
       "        \n",
       "    \n",
       "        var popup_c4042e0aa513771c9a60472001887371 = L.popup({&quot;maxWidth&quot;: &quot;100%&quot;});\n",
       "\n",
       "        \n",
       "            \n",
       "                var html_f2ca9605597533ec678441d0ef18dea3 = $(`&lt;div id=&quot;html_f2ca9605597533ec678441d0ef18dea3&quot; style=&quot;width: 100.0%; height: 100.0%;&quot;&gt;sao sebastiao: 2269.98&lt;/div&gt;`)[0];\n",
       "                popup_c4042e0aa513771c9a60472001887371.setContent(html_f2ca9605597533ec678441d0ef18dea3);\n",
       "            \n",
       "        \n",
       "\n",
       "        circle_marker_6b848c1e93d407b51ea6fb9603ed8800.bindPopup(popup_c4042e0aa513771c9a60472001887371)\n",
       "        ;\n",
       "\n",
       "        \n",
       "    \n",
       "    \n",
       "            var circle_marker_6b30e068bcb9a5d8387cbdd1886e2850 = L.circleMarker(\n",
       "                [-16.669842288749233, -49.33608264816073],\n",
       "                {&quot;bubblingMouseEvents&quot;: true, &quot;color&quot;: &quot;blue&quot;, &quot;dashArray&quot;: null, &quot;dashOffset&quot;: null, &quot;fill&quot;: true, &quot;fillColor&quot;: &quot;blue&quot;, &quot;fillOpacity&quot;: 0.6, &quot;fillRule&quot;: &quot;evenodd&quot;, &quot;lineCap&quot;: &quot;round&quot;, &quot;lineJoin&quot;: &quot;round&quot;, &quot;opacity&quot;: 1.0, &quot;radius&quot;: 22.672800000000002, &quot;stroke&quot;: true, &quot;weight&quot;: 3}\n",
       "            ).addTo(marker_cluster_d650f73e4fd3fda988958bc5f23cc740);\n",
       "        \n",
       "    \n",
       "        var popup_405df2c68999f3bad9807938de37606b = L.popup({&quot;maxWidth&quot;: &quot;100%&quot;});\n",
       "\n",
       "        \n",
       "            \n",
       "                var html_515370b74fb7861744d9a6eb69656198 = $(`&lt;div id=&quot;html_515370b74fb7861744d9a6eb69656198&quot; style=&quot;width: 100.0%; height: 100.0%;&quot;&gt;goiânia: 2267.28&lt;/div&gt;`)[0];\n",
       "                popup_405df2c68999f3bad9807938de37606b.setContent(html_515370b74fb7861744d9a6eb69656198);\n",
       "            \n",
       "        \n",
       "\n",
       "        circle_marker_6b30e068bcb9a5d8387cbdd1886e2850.bindPopup(popup_405df2c68999f3bad9807938de37606b)\n",
       "        ;\n",
       "\n",
       "        \n",
       "    \n",
       "    \n",
       "            var circle_marker_faed904a80d4b1e33f384ca5ee5b0589 = L.circleMarker(\n",
       "                [-2.2739229884031325, -46.9704525938559],\n",
       "                {&quot;bubblingMouseEvents&quot;: true, &quot;color&quot;: &quot;blue&quot;, &quot;dashArray&quot;: null, &quot;dashOffset&quot;: null, &quot;fill&quot;: true, &quot;fillColor&quot;: &quot;blue&quot;, &quot;fillOpacity&quot;: 0.6, &quot;fillRule&quot;: &quot;evenodd&quot;, &quot;lineCap&quot;: &quot;round&quot;, &quot;lineJoin&quot;: &quot;round&quot;, &quot;opacity&quot;: 1.0, &quot;radius&quot;: 22.5266, &quot;stroke&quot;: true, &quot;weight&quot;: 3}\n",
       "            ).addTo(marker_cluster_d650f73e4fd3fda988958bc5f23cc740);\n",
       "        \n",
       "    \n",
       "        var popup_48cc49ce6b10bf77ce6780bfce868e78 = L.popup({&quot;maxWidth&quot;: &quot;100%&quot;});\n",
       "\n",
       "        \n",
       "            \n",
       "                var html_3eaebceb7e80ac249d2dd5c418857971 = $(`&lt;div id=&quot;html_3eaebceb7e80ac249d2dd5c418857971&quot; style=&quot;width: 100.0%; height: 100.0%;&quot;&gt;nova esperanca do piria: 2252.66&lt;/div&gt;`)[0];\n",
       "                popup_48cc49ce6b10bf77ce6780bfce868e78.setContent(html_3eaebceb7e80ac249d2dd5c418857971);\n",
       "            \n",
       "        \n",
       "\n",
       "        circle_marker_faed904a80d4b1e33f384ca5ee5b0589.bindPopup(popup_48cc49ce6b10bf77ce6780bfce868e78)\n",
       "        ;\n",
       "\n",
       "        \n",
       "    \n",
       "    \n",
       "            var circle_marker_3b682fb8d3597b375f8713bfc6506086 = L.circleMarker(\n",
       "                [-22.561155926946515, -55.689172525062325],\n",
       "                {&quot;bubblingMouseEvents&quot;: true, &quot;color&quot;: &quot;blue&quot;, &quot;dashArray&quot;: null, &quot;dashOffset&quot;: null, &quot;fill&quot;: true, &quot;fillColor&quot;: &quot;blue&quot;, &quot;fillOpacity&quot;: 0.6, &quot;fillRule&quot;: &quot;evenodd&quot;, &quot;lineCap&quot;: &quot;round&quot;, &quot;lineJoin&quot;: &quot;round&quot;, &quot;opacity&quot;: 1.0, &quot;radius&quot;: 21.3369, &quot;stroke&quot;: true, &quot;weight&quot;: 3}\n",
       "            ).addTo(marker_cluster_d650f73e4fd3fda988958bc5f23cc740);\n",
       "        \n",
       "    \n",
       "        var popup_39bee97004ff144439bb9f5c2712515c = L.popup({&quot;maxWidth&quot;: &quot;100%&quot;});\n",
       "\n",
       "        \n",
       "            \n",
       "                var html_347191e95dd398c449aa7d6d123013dc = $(`&lt;div id=&quot;html_347191e95dd398c449aa7d6d123013dc&quot; style=&quot;width: 100.0%; height: 100.0%;&quot;&gt;ponta porã: 2133.69&lt;/div&gt;`)[0];\n",
       "                popup_39bee97004ff144439bb9f5c2712515c.setContent(html_347191e95dd398c449aa7d6d123013dc);\n",
       "            \n",
       "        \n",
       "\n",
       "        circle_marker_3b682fb8d3597b375f8713bfc6506086.bindPopup(popup_39bee97004ff144439bb9f5c2712515c)\n",
       "        ;\n",
       "\n",
       "        \n",
       "    \n",
       "    \n",
       "            var circle_marker_60244ba8e306673f192253f4a12ca35b = L.circleMarker(\n",
       "                [-7.183814060777828, -48.21669401223685],\n",
       "                {&quot;bubblingMouseEvents&quot;: true, &quot;color&quot;: &quot;blue&quot;, &quot;dashArray&quot;: null, &quot;dashOffset&quot;: null, &quot;fill&quot;: true, &quot;fillColor&quot;: &quot;blue&quot;, &quot;fillOpacity&quot;: 0.6, &quot;fillRule&quot;: &quot;evenodd&quot;, &quot;lineCap&quot;: &quot;round&quot;, &quot;lineJoin&quot;: &quot;round&quot;, &quot;opacity&quot;: 1.0, &quot;radius&quot;: 20.9444, &quot;stroke&quot;: true, &quot;weight&quot;: 3}\n",
       "            ).addTo(marker_cluster_d650f73e4fd3fda988958bc5f23cc740);\n",
       "        \n",
       "    \n",
       "        var popup_912857d6ce7fb4d43c40c2a1ae45bd66 = L.popup({&quot;maxWidth&quot;: &quot;100%&quot;});\n",
       "\n",
       "        \n",
       "            \n",
       "                var html_cf9ca182d3675efddd46b9f99713c493 = $(`&lt;div id=&quot;html_cf9ca182d3675efddd46b9f99713c493&quot; style=&quot;width: 100.0%; height: 100.0%;&quot;&gt;araguaina: 2094.44&lt;/div&gt;`)[0];\n",
       "                popup_912857d6ce7fb4d43c40c2a1ae45bd66.setContent(html_cf9ca182d3675efddd46b9f99713c493);\n",
       "            \n",
       "        \n",
       "\n",
       "        circle_marker_60244ba8e306673f192253f4a12ca35b.bindPopup(popup_912857d6ce7fb4d43c40c2a1ae45bd66)\n",
       "        ;\n",
       "\n",
       "        \n",
       "    \n",
       "    \n",
       "            var circle_marker_9303003fc6f37537c388fad659f047d7 = L.circleMarker(\n",
       "                [-3.900845505904278, -38.59929334345368],\n",
       "                {&quot;bubblingMouseEvents&quot;: true, &quot;color&quot;: &quot;blue&quot;, &quot;dashArray&quot;: null, &quot;dashOffset&quot;: null, &quot;fill&quot;: true, &quot;fillColor&quot;: &quot;blue&quot;, &quot;fillOpacity&quot;: 0.6, &quot;fillRule&quot;: &quot;evenodd&quot;, &quot;lineCap&quot;: &quot;round&quot;, &quot;lineJoin&quot;: &quot;round&quot;, &quot;opacity&quot;: 1.0, &quot;radius&quot;: 20.539700000000003, &quot;stroke&quot;: true, &quot;weight&quot;: 3}\n",
       "            ).addTo(marker_cluster_d650f73e4fd3fda988958bc5f23cc740);\n",
       "        \n",
       "    \n",
       "        var popup_eefdfd51eb31573a477367a1978e3452 = L.popup({&quot;maxWidth&quot;: &quot;100%&quot;});\n",
       "\n",
       "        \n",
       "            \n",
       "                var html_7c49968acbb87bc081238c9e521e0222 = $(`&lt;div id=&quot;html_7c49968acbb87bc081238c9e521e0222&quot; style=&quot;width: 100.0%; height: 100.0%;&quot;&gt;pacatuba: 2053.97&lt;/div&gt;`)[0];\n",
       "                popup_eefdfd51eb31573a477367a1978e3452.setContent(html_7c49968acbb87bc081238c9e521e0222);\n",
       "            \n",
       "        \n",
       "\n",
       "        circle_marker_9303003fc6f37537c388fad659f047d7.bindPopup(popup_eefdfd51eb31573a477367a1978e3452)\n",
       "        ;\n",
       "\n",
       "        \n",
       "    \n",
       "    \n",
       "            var circle_marker_20007ebced3b56078dd72c0ed9eb2598 = L.circleMarker(\n",
       "                [-25.66105151298395, -49.32501661255965],\n",
       "                {&quot;bubblingMouseEvents&quot;: true, &quot;color&quot;: &quot;blue&quot;, &quot;dashArray&quot;: null, &quot;dashOffset&quot;: null, &quot;fill&quot;: true, &quot;fillColor&quot;: &quot;blue&quot;, &quot;fillOpacity&quot;: 0.6, &quot;fillRule&quot;: &quot;evenodd&quot;, &quot;lineCap&quot;: &quot;round&quot;, &quot;lineJoin&quot;: &quot;round&quot;, &quot;opacity&quot;: 1.0, &quot;radius&quot;: 19.6314, &quot;stroke&quot;: true, &quot;weight&quot;: 3}\n",
       "            ).addTo(marker_cluster_d650f73e4fd3fda988958bc5f23cc740);\n",
       "        \n",
       "    \n",
       "        var popup_b42fa71413fbc4d3ec4bf6cd0e6133f6 = L.popup({&quot;maxWidth&quot;: &quot;100%&quot;});\n",
       "\n",
       "        \n",
       "            \n",
       "                var html_9d1af4a8799b565726079addc51d9215 = $(`&lt;div id=&quot;html_9d1af4a8799b565726079addc51d9215&quot; style=&quot;width: 100.0%; height: 100.0%;&quot;&gt;fazenda rio grande: 1963.14&lt;/div&gt;`)[0];\n",
       "                popup_b42fa71413fbc4d3ec4bf6cd0e6133f6.setContent(html_9d1af4a8799b565726079addc51d9215);\n",
       "            \n",
       "        \n",
       "\n",
       "        circle_marker_20007ebced3b56078dd72c0ed9eb2598.bindPopup(popup_b42fa71413fbc4d3ec4bf6cd0e6133f6)\n",
       "        ;\n",
       "\n",
       "        \n",
       "    \n",
       "    \n",
       "            var circle_marker_5994f5db50bd179f1280c6becc5b3684 = L.circleMarker(\n",
       "                [-11.091204408782543, -37.13651369203823],\n",
       "                {&quot;bubblingMouseEvents&quot;: true, &quot;color&quot;: &quot;blue&quot;, &quot;dashArray&quot;: null, &quot;dashOffset&quot;: null, &quot;fill&quot;: true, &quot;fillColor&quot;: &quot;blue&quot;, &quot;fillOpacity&quot;: 0.6, &quot;fillRule&quot;: &quot;evenodd&quot;, &quot;lineCap&quot;: &quot;round&quot;, &quot;lineJoin&quot;: &quot;round&quot;, &quot;opacity&quot;: 1.0, &quot;radius&quot;: 17.2998, &quot;stroke&quot;: true, &quot;weight&quot;: 3}\n",
       "            ).addTo(marker_cluster_d650f73e4fd3fda988958bc5f23cc740);\n",
       "        \n",
       "    \n",
       "        var popup_2b1e19349138d0aa65a7000968c30151 = L.popup({&quot;maxWidth&quot;: &quot;100%&quot;});\n",
       "\n",
       "        \n",
       "            \n",
       "                var html_0dd0c256baeecd29d9c399b6a5b43287 = $(`&lt;div id=&quot;html_0dd0c256baeecd29d9c399b6a5b43287&quot; style=&quot;width: 100.0%; height: 100.0%;&quot;&gt;aracaju: 1729.98&lt;/div&gt;`)[0];\n",
       "                popup_2b1e19349138d0aa65a7000968c30151.setContent(html_0dd0c256baeecd29d9c399b6a5b43287);\n",
       "            \n",
       "        \n",
       "\n",
       "        circle_marker_5994f5db50bd179f1280c6becc5b3684.bindPopup(popup_2b1e19349138d0aa65a7000968c30151)\n",
       "        ;\n",
       "\n",
       "        \n",
       "    \n",
       "    \n",
       "            var circle_marker_9fe8f56fb5803576dc1f0e03ffe35cdd = L.circleMarker(\n",
       "                [-7.086635923831604, -45.14038387670624],\n",
       "                {&quot;bubblingMouseEvents&quot;: true, &quot;color&quot;: &quot;blue&quot;, &quot;dashArray&quot;: null, &quot;dashOffset&quot;: null, &quot;fill&quot;: true, &quot;fillColor&quot;: &quot;blue&quot;, &quot;fillOpacity&quot;: 0.6, &quot;fillRule&quot;: &quot;evenodd&quot;, &quot;lineCap&quot;: &quot;round&quot;, &quot;lineJoin&quot;: &quot;round&quot;, &quot;opacity&quot;: 1.0, &quot;radius&quot;: 16.436400000000003, &quot;stroke&quot;: true, &quot;weight&quot;: 3}\n",
       "            ).addTo(marker_cluster_d650f73e4fd3fda988958bc5f23cc740);\n",
       "        \n",
       "    \n",
       "        var popup_ea4226c9bbfe800ac1448417a3a813d9 = L.popup({&quot;maxWidth&quot;: &quot;100%&quot;});\n",
       "\n",
       "        \n",
       "            \n",
       "                var html_31547486893763a7e16edc989e00a8b9 = $(`&lt;div id=&quot;html_31547486893763a7e16edc989e00a8b9&quot; style=&quot;width: 100.0%; height: 100.0%;&quot;&gt;loreto: 1643.64&lt;/div&gt;`)[0];\n",
       "                popup_ea4226c9bbfe800ac1448417a3a813d9.setContent(html_31547486893763a7e16edc989e00a8b9);\n",
       "            \n",
       "        \n",
       "\n",
       "        circle_marker_9fe8f56fb5803576dc1f0e03ffe35cdd.bindPopup(popup_ea4226c9bbfe800ac1448417a3a813d9)\n",
       "        ;\n",
       "\n",
       "        \n",
       "    \n",
       "    \n",
       "            var circle_marker_345d716bc825ca4653772598040e5f88 = L.circleMarker(\n",
       "                [-26.932547252597665, -48.95691757514654],\n",
       "                {&quot;bubblingMouseEvents&quot;: true, &quot;color&quot;: &quot;blue&quot;, &quot;dashArray&quot;: null, &quot;dashOffset&quot;: null, &quot;fill&quot;: true, &quot;fillColor&quot;: &quot;blue&quot;, &quot;fillOpacity&quot;: 0.6, &quot;fillRule&quot;: &quot;evenodd&quot;, &quot;lineCap&quot;: &quot;round&quot;, &quot;lineJoin&quot;: &quot;round&quot;, &quot;opacity&quot;: 1.0, &quot;radius&quot;: 16.21615, &quot;stroke&quot;: true, &quot;weight&quot;: 3}\n",
       "            ).addTo(marker_cluster_d650f73e4fd3fda988958bc5f23cc740);\n",
       "        \n",
       "    \n",
       "        var popup_5862366599ba290517c06084bd01cdbf = L.popup({&quot;maxWidth&quot;: &quot;100%&quot;});\n",
       "\n",
       "        \n",
       "            \n",
       "                var html_56b76731e26dd34248e31d6eb66b1f39 = $(`&lt;div id=&quot;html_56b76731e26dd34248e31d6eb66b1f39&quot; style=&quot;width: 100.0%; height: 100.0%;&quot;&gt;gaspar: 1621.62&lt;/div&gt;`)[0];\n",
       "                popup_5862366599ba290517c06084bd01cdbf.setContent(html_56b76731e26dd34248e31d6eb66b1f39);\n",
       "            \n",
       "        \n",
       "\n",
       "        circle_marker_345d716bc825ca4653772598040e5f88.bindPopup(popup_5862366599ba290517c06084bd01cdbf)\n",
       "        ;\n",
       "\n",
       "        \n",
       "    \n",
       "    \n",
       "            var circle_marker_5a378de9f06fcb40c6d199ceb41c0cf6 = L.circleMarker(\n",
       "                [-11.54048442546934, -41.9790825],\n",
       "                {&quot;bubblingMouseEvents&quot;: true, &quot;color&quot;: &quot;blue&quot;, &quot;dashArray&quot;: null, &quot;dashOffset&quot;: null, &quot;fill&quot;: true, &quot;fillColor&quot;: &quot;blue&quot;, &quot;fillOpacity&quot;: 0.6, &quot;fillRule&quot;: &quot;evenodd&quot;, &quot;lineCap&quot;: &quot;round&quot;, &quot;lineJoin&quot;: &quot;round&quot;, &quot;opacity&quot;: 1.0, &quot;radius&quot;: 15.345799999999999, &quot;stroke&quot;: true, &quot;weight&quot;: 3}\n",
       "            ).addTo(marker_cluster_d650f73e4fd3fda988958bc5f23cc740);\n",
       "        \n",
       "    \n",
       "        var popup_e184e67d9b1f554f3b40a836eac36580 = L.popup({&quot;maxWidth&quot;: &quot;100%&quot;});\n",
       "\n",
       "        \n",
       "            \n",
       "                var html_e13c278d54770bc96beb09ba38a5bf07 = $(`&lt;div id=&quot;html_e13c278d54770bc96beb09ba38a5bf07&quot; style=&quot;width: 100.0%; height: 100.0%;&quot;&gt;ibitita: 1534.58&lt;/div&gt;`)[0];\n",
       "                popup_e184e67d9b1f554f3b40a836eac36580.setContent(html_e13c278d54770bc96beb09ba38a5bf07);\n",
       "            \n",
       "        \n",
       "\n",
       "        circle_marker_5a378de9f06fcb40c6d199ceb41c0cf6.bindPopup(popup_e184e67d9b1f554f3b40a836eac36580)\n",
       "        ;\n",
       "\n",
       "        \n",
       "    \n",
       "    \n",
       "            var circle_marker_8ef3689db04d1d8a622e03e16bc351b1 = L.circleMarker(\n",
       "                [-8.08491636663973, -34.93096763696693],\n",
       "                {&quot;bubblingMouseEvents&quot;: true, &quot;color&quot;: &quot;blue&quot;, &quot;dashArray&quot;: null, &quot;dashOffset&quot;: null, &quot;fill&quot;: true, &quot;fillColor&quot;: &quot;blue&quot;, &quot;fillOpacity&quot;: 0.6, &quot;fillRule&quot;: &quot;evenodd&quot;, &quot;lineCap&quot;: &quot;round&quot;, &quot;lineJoin&quot;: &quot;round&quot;, &quot;opacity&quot;: 1.0, &quot;radius&quot;: 13.813099999999999, &quot;stroke&quot;: true, &quot;weight&quot;: 3}\n",
       "            ).addTo(marker_cluster_d650f73e4fd3fda988958bc5f23cc740);\n",
       "        \n",
       "    \n",
       "        var popup_9f3ef46a20c5219a64dcb591440764f4 = L.popup({&quot;maxWidth&quot;: &quot;100%&quot;});\n",
       "\n",
       "        \n",
       "            \n",
       "                var html_563e02f80a6b40c02bb5f178c353bd1d = $(`&lt;div id=&quot;html_563e02f80a6b40c02bb5f178c353bd1d&quot; style=&quot;width: 100.0%; height: 100.0%;&quot;&gt;recife: 1381.31&lt;/div&gt;`)[0];\n",
       "                popup_9f3ef46a20c5219a64dcb591440764f4.setContent(html_563e02f80a6b40c02bb5f178c353bd1d);\n",
       "            \n",
       "        \n",
       "\n",
       "        circle_marker_8ef3689db04d1d8a622e03e16bc351b1.bindPopup(popup_9f3ef46a20c5219a64dcb591440764f4)\n",
       "        ;\n",
       "\n",
       "        \n",
       "    \n",
       "    \n",
       "            var circle_marker_99f398117000cfe1bbdeba25d6ec0916 = L.circleMarker(\n",
       "                [-30.89672731287172, -55.48805884391367],\n",
       "                {&quot;bubblingMouseEvents&quot;: true, &quot;color&quot;: &quot;blue&quot;, &quot;dashArray&quot;: null, &quot;dashOffset&quot;: null, &quot;fill&quot;: true, &quot;fillColor&quot;: &quot;blue&quot;, &quot;fillOpacity&quot;: 0.6, &quot;fillRule&quot;: &quot;evenodd&quot;, &quot;lineCap&quot;: &quot;round&quot;, &quot;lineJoin&quot;: &quot;round&quot;, &quot;opacity&quot;: 1.0, &quot;radius&quot;: 13.2379, &quot;stroke&quot;: true, &quot;weight&quot;: 3}\n",
       "            ).addTo(marker_cluster_d650f73e4fd3fda988958bc5f23cc740);\n",
       "        \n",
       "    \n",
       "        var popup_b70d230228e6d24ce1968b79b433fd3c = L.popup({&quot;maxWidth&quot;: &quot;100%&quot;});\n",
       "\n",
       "        \n",
       "            \n",
       "                var html_fb1b39cfc87e689b41dcef819d18c968 = $(`&lt;div id=&quot;html_fb1b39cfc87e689b41dcef819d18c968&quot; style=&quot;width: 100.0%; height: 100.0%;&quot;&gt;santana do livramento: 1323.79&lt;/div&gt;`)[0];\n",
       "                popup_b70d230228e6d24ce1968b79b433fd3c.setContent(html_fb1b39cfc87e689b41dcef819d18c968);\n",
       "            \n",
       "        \n",
       "\n",
       "        circle_marker_99f398117000cfe1bbdeba25d6ec0916.bindPopup(popup_b70d230228e6d24ce1968b79b433fd3c)\n",
       "        ;\n",
       "\n",
       "        \n",
       "    \n",
       "    \n",
       "            var circle_marker_3b218feabcca4e6c9bd86d45e885cf82 = L.circleMarker(\n",
       "                [-14.426861202964435, -54.05243875069832],\n",
       "                {&quot;bubblingMouseEvents&quot;: true, &quot;color&quot;: &quot;blue&quot;, &quot;dashArray&quot;: null, &quot;dashOffset&quot;: null, &quot;fill&quot;: true, &quot;fillColor&quot;: &quot;blue&quot;, &quot;fillOpacity&quot;: 0.6, &quot;fillRule&quot;: &quot;evenodd&quot;, &quot;lineCap&quot;: &quot;round&quot;, &quot;lineJoin&quot;: &quot;round&quot;, &quot;opacity&quot;: 1.0, &quot;radius&quot;: 12.871599999999999, &quot;stroke&quot;: true, &quot;weight&quot;: 3}\n",
       "            ).addTo(marker_cluster_d650f73e4fd3fda988958bc5f23cc740);\n",
       "        \n",
       "    \n",
       "        var popup_46a05476ee01b4be4a772763e6415e02 = L.popup({&quot;maxWidth&quot;: &quot;100%&quot;});\n",
       "\n",
       "        \n",
       "            \n",
       "                var html_20084c58f50dd9a1810822b2232e1887 = $(`&lt;div id=&quot;html_20084c58f50dd9a1810822b2232e1887&quot; style=&quot;width: 100.0%; height: 100.0%;&quot;&gt;paranatinga: 1287.16&lt;/div&gt;`)[0];\n",
       "                popup_46a05476ee01b4be4a772763e6415e02.setContent(html_20084c58f50dd9a1810822b2232e1887);\n",
       "            \n",
       "        \n",
       "\n",
       "        circle_marker_3b218feabcca4e6c9bd86d45e885cf82.bindPopup(popup_46a05476ee01b4be4a772763e6415e02)\n",
       "        ;\n",
       "\n",
       "        \n",
       "    \n",
       "    \n",
       "            var circle_marker_c078e7fb785fbf1a721f19afcc169601 = L.circleMarker(\n",
       "                [-9.718873356827435, -63.31295501978543],\n",
       "                {&quot;bubblingMouseEvents&quot;: true, &quot;color&quot;: &quot;blue&quot;, &quot;dashArray&quot;: null, &quot;dashOffset&quot;: null, &quot;fill&quot;: true, &quot;fillColor&quot;: &quot;blue&quot;, &quot;fillOpacity&quot;: 0.6, &quot;fillRule&quot;: &quot;evenodd&quot;, &quot;lineCap&quot;: &quot;round&quot;, &quot;lineJoin&quot;: &quot;round&quot;, &quot;opacity&quot;: 1.0, &quot;radius&quot;: 12.6076, &quot;stroke&quot;: true, &quot;weight&quot;: 3}\n",
       "            ).addTo(marker_cluster_d650f73e4fd3fda988958bc5f23cc740);\n",
       "        \n",
       "    \n",
       "        var popup_9d9c09d0a556e078fac8aa878762a182 = L.popup({&quot;maxWidth&quot;: &quot;100%&quot;});\n",
       "\n",
       "        \n",
       "            \n",
       "                var html_3375cff439e6430d501f3f35af44990a = $(`&lt;div id=&quot;html_3375cff439e6430d501f3f35af44990a&quot; style=&quot;width: 100.0%; height: 100.0%;&quot;&gt;alto paraiso: 1260.76&lt;/div&gt;`)[0];\n",
       "                popup_9d9c09d0a556e078fac8aa878762a182.setContent(html_3375cff439e6430d501f3f35af44990a);\n",
       "            \n",
       "        \n",
       "\n",
       "        circle_marker_c078e7fb785fbf1a721f19afcc169601.bindPopup(popup_9d9c09d0a556e078fac8aa878762a182)\n",
       "        ;\n",
       "\n",
       "        \n",
       "    \n",
       "    \n",
       "            var circle_marker_e1468337ac9c33c46c8ab5c5781c65e9 = L.circleMarker(\n",
       "                [-4.091860991210176, -63.14751968166446],\n",
       "                {&quot;bubblingMouseEvents&quot;: true, &quot;color&quot;: &quot;blue&quot;, &quot;dashArray&quot;: null, &quot;dashOffset&quot;: null, &quot;fill&quot;: true, &quot;fillColor&quot;: &quot;blue&quot;, &quot;fillOpacity&quot;: 0.6, &quot;fillRule&quot;: &quot;evenodd&quot;, &quot;lineCap&quot;: &quot;round&quot;, &quot;lineJoin&quot;: &quot;round&quot;, &quot;opacity&quot;: 1.0, &quot;radius&quot;: 12.590399999999999, &quot;stroke&quot;: true, &quot;weight&quot;: 3}\n",
       "            ).addTo(marker_cluster_d650f73e4fd3fda988958bc5f23cc740);\n",
       "        \n",
       "    \n",
       "        var popup_373909e7b72ccba9e612902a5cf94ec5 = L.popup({&quot;maxWidth&quot;: &quot;100%&quot;});\n",
       "\n",
       "        \n",
       "            \n",
       "                var html_e6b0aef759aef0cdf8ab6d4b684587d9 = $(`&lt;div id=&quot;html_e6b0aef759aef0cdf8ab6d4b684587d9&quot; style=&quot;width: 100.0%; height: 100.0%;&quot;&gt;coari: 1259.04&lt;/div&gt;`)[0];\n",
       "                popup_373909e7b72ccba9e612902a5cf94ec5.setContent(html_e6b0aef759aef0cdf8ab6d4b684587d9);\n",
       "            \n",
       "        \n",
       "\n",
       "        circle_marker_e1468337ac9c33c46c8ab5c5781c65e9.bindPopup(popup_373909e7b72ccba9e612902a5cf94ec5)\n",
       "        ;\n",
       "\n",
       "        \n",
       "    \n",
       "    \n",
       "            var circle_marker_b00367e80cd58090d758626a9af453dc = L.circleMarker(\n",
       "                [-5.063537654523469, -36.05172986000658],\n",
       "                {&quot;bubblingMouseEvents&quot;: true, &quot;color&quot;: &quot;blue&quot;, &quot;dashArray&quot;: null, &quot;dashOffset&quot;: null, &quot;fill&quot;: true, &quot;fillColor&quot;: &quot;blue&quot;, &quot;fillOpacity&quot;: 0.6, &quot;fillRule&quot;: &quot;evenodd&quot;, &quot;lineCap&quot;: &quot;round&quot;, &quot;lineJoin&quot;: &quot;round&quot;, &quot;opacity&quot;: 1.0, &quot;radius&quot;: 11.574100000000001, &quot;stroke&quot;: true, &quot;weight&quot;: 3}\n",
       "            ).addTo(marker_cluster_d650f73e4fd3fda988958bc5f23cc740);\n",
       "        \n",
       "    \n",
       "        var popup_b5b75eceec894742c623cba434b2daca = L.popup({&quot;maxWidth&quot;: &quot;100%&quot;});\n",
       "\n",
       "        \n",
       "            \n",
       "                var html_36238f07c442903bad82eff07321314b = $(`&lt;div id=&quot;html_36238f07c442903bad82eff07321314b&quot; style=&quot;width: 100.0%; height: 100.0%;&quot;&gt;caiçara do norte: 1157.41&lt;/div&gt;`)[0];\n",
       "                popup_b5b75eceec894742c623cba434b2daca.setContent(html_36238f07c442903bad82eff07321314b);\n",
       "            \n",
       "        \n",
       "\n",
       "        circle_marker_b00367e80cd58090d758626a9af453dc.bindPopup(popup_b5b75eceec894742c623cba434b2daca)\n",
       "        ;\n",
       "\n",
       "        \n",
       "    \n",
       "    \n",
       "            var circle_marker_56864477c71dfa2ba85c160ece7cca66 = L.circleMarker(\n",
       "                [-15.865852007071766, -48.02592928650557],\n",
       "                {&quot;bubblingMouseEvents&quot;: true, &quot;color&quot;: &quot;blue&quot;, &quot;dashArray&quot;: null, &quot;dashOffset&quot;: null, &quot;fill&quot;: true, &quot;fillColor&quot;: &quot;blue&quot;, &quot;fillOpacity&quot;: 0.6, &quot;fillRule&quot;: &quot;evenodd&quot;, &quot;lineCap&quot;: &quot;round&quot;, &quot;lineJoin&quot;: &quot;round&quot;, &quot;opacity&quot;: 1.0, &quot;radius&quot;: 11.255799999999999, &quot;stroke&quot;: true, &quot;weight&quot;: 3}\n",
       "            ).addTo(marker_cluster_d650f73e4fd3fda988958bc5f23cc740);\n",
       "        \n",
       "    \n",
       "        var popup_aaa22e30c6d59556509b32b2e488cbb0 = L.popup({&quot;maxWidth&quot;: &quot;100%&quot;});\n",
       "\n",
       "        \n",
       "            \n",
       "                var html_0573d81b540bb53e1cd41c03080bcbe1 = $(`&lt;div id=&quot;html_0573d81b540bb53e1cd41c03080bcbe1&quot; style=&quot;width: 100.0%; height: 100.0%;&quot;&gt;brasilia: 1125.58&lt;/div&gt;`)[0];\n",
       "                popup_aaa22e30c6d59556509b32b2e488cbb0.setContent(html_0573d81b540bb53e1cd41c03080bcbe1);\n",
       "            \n",
       "        \n",
       "\n",
       "        circle_marker_56864477c71dfa2ba85c160ece7cca66.bindPopup(popup_aaa22e30c6d59556509b32b2e488cbb0)\n",
       "        ;\n",
       "\n",
       "        \n",
       "    \n",
       "    \n",
       "            var circle_marker_0b13d879aa45481b40532413a60368e1 = L.circleMarker(\n",
       "                [-19.374829401340627, -40.052093765784605],\n",
       "                {&quot;bubblingMouseEvents&quot;: true, &quot;color&quot;: &quot;blue&quot;, &quot;dashArray&quot;: null, &quot;dashOffset&quot;: null, &quot;fill&quot;: true, &quot;fillColor&quot;: &quot;blue&quot;, &quot;fillOpacity&quot;: 0.6, &quot;fillRule&quot;: &quot;evenodd&quot;, &quot;lineCap&quot;: &quot;round&quot;, &quot;lineJoin&quot;: &quot;round&quot;, &quot;opacity&quot;: 1.0, &quot;radius&quot;: 9.6334, &quot;stroke&quot;: true, &quot;weight&quot;: 3}\n",
       "            ).addTo(marker_cluster_d650f73e4fd3fda988958bc5f23cc740);\n",
       "        \n",
       "    \n",
       "        var popup_e0bebce40671e13ef1580c86b065593b = L.popup({&quot;maxWidth&quot;: &quot;100%&quot;});\n",
       "\n",
       "        \n",
       "            \n",
       "                var html_50b34abe783d84bcf5fb5196c20a1178 = $(`&lt;div id=&quot;html_50b34abe783d84bcf5fb5196c20a1178&quot; style=&quot;width: 100.0%; height: 100.0%;&quot;&gt;linhares: 963.34&lt;/div&gt;`)[0];\n",
       "                popup_e0bebce40671e13ef1580c86b065593b.setContent(html_50b34abe783d84bcf5fb5196c20a1178);\n",
       "            \n",
       "        \n",
       "\n",
       "        circle_marker_0b13d879aa45481b40532413a60368e1.bindPopup(popup_e0bebce40671e13ef1580c86b065593b)\n",
       "        ;\n",
       "\n",
       "        \n",
       "    \n",
       "    \n",
       "            var circle_marker_a672df81e6c72dc13d31a82d986eac43 = L.circleMarker(\n",
       "                [-3.72009636694862, -42.55567797229149],\n",
       "                {&quot;bubblingMouseEvents&quot;: true, &quot;color&quot;: &quot;blue&quot;, &quot;dashArray&quot;: null, &quot;dashOffset&quot;: null, &quot;fill&quot;: true, &quot;fillColor&quot;: &quot;blue&quot;, &quot;fillOpacity&quot;: 0.6, &quot;fillRule&quot;: &quot;evenodd&quot;, &quot;lineCap&quot;: &quot;round&quot;, &quot;lineJoin&quot;: &quot;round&quot;, &quot;opacity&quot;: 1.0, &quot;radius&quot;: 8.414, &quot;stroke&quot;: true, &quot;weight&quot;: 3}\n",
       "            ).addTo(marker_cluster_d650f73e4fd3fda988958bc5f23cc740);\n",
       "        \n",
       "    \n",
       "        var popup_3e60ec4b8aa2dcc7047d659d30b57e72 = L.popup({&quot;maxWidth&quot;: &quot;100%&quot;});\n",
       "\n",
       "        \n",
       "            \n",
       "                var html_7d2d19ce940721a4de55190dc23b123f = $(`&lt;div id=&quot;html_7d2d19ce940721a4de55190dc23b123f&quot; style=&quot;width: 100.0%; height: 100.0%;&quot;&gt;matias olimpio: 841.40&lt;/div&gt;`)[0];\n",
       "                popup_3e60ec4b8aa2dcc7047d659d30b57e72.setContent(html_7d2d19ce940721a4de55190dc23b123f);\n",
       "            \n",
       "        \n",
       "\n",
       "        circle_marker_a672df81e6c72dc13d31a82d986eac43.bindPopup(popup_3e60ec4b8aa2dcc7047d659d30b57e72)\n",
       "        ;\n",
       "\n",
       "        \n",
       "    \n",
       "    \n",
       "            var circle_marker_42dedd994f6f3091e12b6ddfaafcc4fe = L.circleMarker(\n",
       "                [2.8471714284267238, -60.726677295086986],\n",
       "                {&quot;bubblingMouseEvents&quot;: true, &quot;color&quot;: &quot;blue&quot;, &quot;dashArray&quot;: null, &quot;dashOffset&quot;: null, &quot;fill&quot;: true, &quot;fillColor&quot;: &quot;blue&quot;, &quot;fillOpacity&quot;: 0.6, &quot;fillRule&quot;: &quot;evenodd&quot;, &quot;lineCap&quot;: &quot;round&quot;, &quot;lineJoin&quot;: &quot;round&quot;, &quot;opacity&quot;: 1.0, &quot;radius&quot;: 5.9656, &quot;stroke&quot;: true, &quot;weight&quot;: 3}\n",
       "            ).addTo(marker_cluster_d650f73e4fd3fda988958bc5f23cc740);\n",
       "        \n",
       "    \n",
       "        var popup_7ac95f85ff7e89114693f639c7c210f7 = L.popup({&quot;maxWidth&quot;: &quot;100%&quot;});\n",
       "\n",
       "        \n",
       "            \n",
       "                var html_b238d6b627d97ddfd8c18fc08710150f = $(`&lt;div id=&quot;html_b238d6b627d97ddfd8c18fc08710150f&quot; style=&quot;width: 100.0%; height: 100.0%;&quot;&gt;boa vista: 596.56&lt;/div&gt;`)[0];\n",
       "                popup_7ac95f85ff7e89114693f639c7c210f7.setContent(html_b238d6b627d97ddfd8c18fc08710150f);\n",
       "            \n",
       "        \n",
       "\n",
       "        circle_marker_42dedd994f6f3091e12b6ddfaafcc4fe.bindPopup(popup_7ac95f85ff7e89114693f639c7c210f7)\n",
       "        ;\n",
       "\n",
       "        \n",
       "    \n",
       "    \n",
       "            var circle_marker_9c0e87a6be28f09116052b55d5e7e983 = L.circleMarker(\n",
       "                [0.0199738915224052, -51.07370874948396],\n",
       "                {&quot;bubblingMouseEvents&quot;: true, &quot;color&quot;: &quot;blue&quot;, &quot;dashArray&quot;: null, &quot;dashOffset&quot;: null, &quot;fill&quot;: true, &quot;fillColor&quot;: &quot;blue&quot;, &quot;fillOpacity&quot;: 0.6, &quot;fillRule&quot;: &quot;evenodd&quot;, &quot;lineCap&quot;: &quot;round&quot;, &quot;lineJoin&quot;: &quot;round&quot;, &quot;opacity&quot;: 1.0, &quot;radius&quot;: 5.69025, &quot;stroke&quot;: true, &quot;weight&quot;: 3}\n",
       "            ).addTo(marker_cluster_d650f73e4fd3fda988958bc5f23cc740);\n",
       "        \n",
       "    \n",
       "        var popup_619f4d93714652ac26bb1f46e0805497 = L.popup({&quot;maxWidth&quot;: &quot;100%&quot;});\n",
       "\n",
       "        \n",
       "            \n",
       "                var html_eba29e2373b9de8d4da9d0eceed773e2 = $(`&lt;div id=&quot;html_eba29e2373b9de8d4da9d0eceed773e2&quot; style=&quot;width: 100.0%; height: 100.0%;&quot;&gt;macapá: 569.02&lt;/div&gt;`)[0];\n",
       "                popup_619f4d93714652ac26bb1f46e0805497.setContent(html_eba29e2373b9de8d4da9d0eceed773e2);\n",
       "            \n",
       "        \n",
       "\n",
       "        circle_marker_9c0e87a6be28f09116052b55d5e7e983.bindPopup(popup_619f4d93714652ac26bb1f46e0805497)\n",
       "        ;\n",
       "\n",
       "        \n",
       "    \n",
       "    \n",
       "            var circle_marker_46fb68d7948e74a761e1f7e771dea076 = L.circleMarker(\n",
       "                [-9.93034257285476, -67.82081885636795],\n",
       "                {&quot;bubblingMouseEvents&quot;: true, &quot;color&quot;: &quot;blue&quot;, &quot;dashArray&quot;: null, &quot;dashOffset&quot;: null, &quot;fill&quot;: true, &quot;fillColor&quot;: &quot;blue&quot;, &quot;fillOpacity&quot;: 0.6, &quot;fillRule&quot;: &quot;evenodd&quot;, &quot;lineCap&quot;: &quot;round&quot;, &quot;lineJoin&quot;: &quot;round&quot;, &quot;opacity&quot;: 1.0, &quot;radius&quot;: 5.325833333333334, &quot;stroke&quot;: true, &quot;weight&quot;: 3}\n",
       "            ).addTo(marker_cluster_d650f73e4fd3fda988958bc5f23cc740);\n",
       "        \n",
       "    \n",
       "        var popup_81402536d79ae72f757e2a7065a2ea5f = L.popup({&quot;maxWidth&quot;: &quot;100%&quot;});\n",
       "\n",
       "        \n",
       "            \n",
       "                var html_cb188206c859175555667af47095c6db = $(`&lt;div id=&quot;html_cb188206c859175555667af47095c6db&quot; style=&quot;width: 100.0%; height: 100.0%;&quot;&gt;rio branco: 532.58&lt;/div&gt;`)[0];\n",
       "                popup_81402536d79ae72f757e2a7065a2ea5f.setContent(html_cb188206c859175555667af47095c6db);\n",
       "            \n",
       "        \n",
       "\n",
       "        circle_marker_46fb68d7948e74a761e1f7e771dea076.bindPopup(popup_81402536d79ae72f757e2a7065a2ea5f)\n",
       "        ;\n",
       "\n",
       "        \n",
       "    \n",
       "    \n",
       "            marker_cluster_d650f73e4fd3fda988958bc5f23cc740.addTo(map_4ea0c5da9f957c32c053e73cd254ea8c);\n",
       "        \n",
       "&lt;/script&gt;\n",
       "&lt;/html&gt;\" style=\"position:absolute;width:100%;height:100%;left:0;top:0;border:none !important;\" allowfullscreen webkitallowfullscreen mozallowfullscreen></iframe></div></div>"
      ],
      "text/plain": [
       "<folium.folium.Map at 0x7af1e4784130>"
      ]
     },
     "execution_count": 28,
     "metadata": {},
     "output_type": "execute_result"
    }
   ],
   "source": [
    "# Create the map\n",
    "map_center = [-15.7801, -47.9292]\n",
    "# Setup Map\n",
    "my_map = folium.Map(location=map_center, zoom_start=4)\n",
    "\n",
    "# Create a marker cluster\n",
    "marker_cluster = MarkerCluster().add_to(my_map)\n",
    "\n",
    "# Add points to the marker cluster\n",
    "for _, row in sorted_heatmap_data_clean.iterrows():\n",
    "    folium.CircleMarker(\n",
    "        location=[row['geolocation_lat'], row['geolocation_lng']],\n",
    "        radius=row['payment_value'] / 100,\n",
    "        color='blue',\n",
    "        fill=True,\n",
    "        fill_color='blue',\n",
    "        fill_opacity=0.6,\n",
    "        popup=f\"{row['geolocation_city']}: {row['payment_value']:.2f}\"\n",
    "    ).add_to(marker_cluster)\n",
    "\n",
    "# Display the map\n",
    "my_map"
   ]
  },
  {
   "cell_type": "markdown",
   "metadata": {
    "id": "1eI1Dld6qdNx"
   },
   "source": [
    "**insight**\n",
    "\n",
    "Berdasarkan hasil visualisasi, berikut adalah lokasi pelanggan di Brasil yang memberikan kontribusi terbesar terhadap nilai pembayaran:\n",
    "\n",
    "\n",
    "*   Piancó, PB: Dengan total nilai pembayaran 2324.99, Piancó menjadi lokasi dengan kontribusi tertinggi. Ini menunjukkan potensi pasar yang signifikan dan kesempatan untuk memperkuat strategi pemasaran di wilayah ini.\n",
    "*   São Sebastião, AL: Total nilai pembayaran mencapai 2269.98, menjadikannya sebagai titik penting berikutnya. Upaya pemasaran yang ditargetkan di São Sebastião dapat berkontribusi pada peningkatan penjualan.\n",
    "*   Nova Esperança do Piriá, PA: Memiliki nilai pembayaran sebesar 2252.66, yang menunjukkan minat konsumen yang kuat di daerah ini. Pengembangan produk yang sesuai dengan preferensi lokal dapat menjadi langkah strategis untuk meningkatkan nilai jual.\n",
    "*   Engenheiro Navarro, MG: Dengan nilai pembayaran 2106.55, lokasi ini menunjukkan bahwa pelanggan di MG menghabiskan jumlah yang cukup besar. Penyusunan program loyalitas atau promosi khusus mungkin diperlukan untuk mempertahankan pelanggan di sini.\n",
    "*   Mariental, PR: Menyumbang nilai pembayaran 1867.85, Mariental adalah indikator potensi pertumbuhan di masa depan. Mengumpulkan umpan balik dari pelanggan di daerah ini dapat memberikan wawasan tambahan untuk strategi pengembangan produk.\n",
    "\n",
    "\n",
    "Data ini menggambarkan potensi yang besar untuk perusahaan dalam merancang strategi pemasaran yang lebih efektif di lokasi dengan kontribusi tinggi terhadap pendapatan, seperti Piancó dan São Sebastião. Berfokus pada lokasi-lokasi ini tidak hanya akan meningkatkan efektivitas kampanye pemasaran tetapi juga dapat memperkuat hubungan perusahaan dengan pelanggan, sehingga mendorong pertumbuhan jangka panjang.\n",
    "\n",
    "\n",
    "\n",
    "\n",
    "\n",
    "\n",
    "\n",
    "\n",
    "\n"
   ]
  },
  {
   "cell_type": "markdown",
   "metadata": {
    "id": "xQMi2czRfp81"
   },
   "source": [
    "## Conclusion"
   ]
  },
  {
   "cell_type": "markdown",
   "metadata": {
    "id": "hd377M_tj3yB"
   },
   "source": [
    "### Pertanyaan 1: Selama penjualan bulanan 2016-2018, apakah ada tren tertentu yang terbentuk?"
   ]
  },
  {
   "cell_type": "markdown",
   "metadata": {
    "id": "n_eggQgVke2g"
   },
   "source": [
    "Tren penjualan antara tahun 2016 hingga 2018 menunjukkan adanya pertumbuhan yang signifikan, terutama sejak Maret 2017. Meskipun volume pesanan mengalami fluktuasi, umumnya menunjukkan kecenderungan naik yang stabil. Penurunan di bulan Desember 2017, yang kemungkinan disebabkan oleh faktor musiman, tidak menghentikan pertumbuhan keseluruhan, melainkan memperlihatkan bahwa bisnis dapat mempertahankan pelanggan setelah periode puncak."
   ]
  },
  {
   "cell_type": "markdown",
   "metadata": {
    "id": "CyRm7Fq1j4dB"
   },
   "source": [
    "### Pertanyaan 2: Metode pembayaran mana yang paling efektif untuk strategi promosi dalam menarik pelanggan baru dan meningkatkan penjualan?"
   ]
  },
  {
   "cell_type": "markdown",
   "metadata": {
    "id": "UWGmOTWkkhGh"
   },
   "source": [
    "Dari analisis, metode pembayaran menggunakan kartu kredit muncul sebagai yang paling efektif dan populer, dengan jumlah transaksi yang tinggi. Dalam merancang strategi promosi, bisnis harus mempertimbangkan pengoptimalan kampanye pemasaran yang memanfaatkan preferensi pelanggan terhadap kartu kredit, sekaligus memberikan kemudahan dan kenyamanan dalam proses pembayaran."
   ]
  },
  {
   "cell_type": "markdown",
   "metadata": {
    "id": "sYEbAtYyj5Gk"
   },
   "source": [
    "### Pertanyaan 3: Kota bagian mana yang memiliki potensi pasar terbesar berdasarkan jumlah pelanggan?"
   ]
  },
  {
   "cell_type": "markdown",
   "metadata": {
    "id": "2u_XeSeeklLO"
   },
   "source": [
    "São Paulo, sebagai kota dengan jumlah pelanggan terbesar, menunjukkan potensi pasar yang signifikan didukung oleh populasi yang padat dan status ekonominya. Kota-kota lainnya seperti Rio de Janeiro dan Minas Gerais juga menunjukkan potensi pasar yang tinggi. Fokus pada pengembangan strategi pemasaran di kawasan-kawasan ini dapat meningkatkan penetrasi pasar dan mendatangkan lebih banyak pelanggan."
   ]
  },
  {
   "cell_type": "markdown",
   "metadata": {
    "id": "YIFhVnMMgdjv"
   },
   "source": [
    "### Pertanyaan 4: Bagaimana proporsi pelanggan dalam setiap kategori pengeluaran berdasarkan analisis RFM selama tahun 2016 sampai 2018?"
   ]
  },
  {
   "cell_type": "markdown",
   "metadata": {
    "id": "1WvCz6J3ga5v"
   },
   "source": [
    "Proporsi Pelanggan berdasarkan Kategori RFM: Analisis RFM menunjukkan bahwa selama tahun 2016 hingga 2018, terdapat empat kategori pelanggan, dengan proporsi pelanggan terbanyak berada pada kategori Low Value Customer sebanyak 45.916, diikuti oleh Moderate Customer (31.007), Valuable Customer (19.281), dan VIP Customer sebanyak 257. Hal ini menandakan bahwa sebagian besar pelanggan masih berada pada kategori dengan nilai pengeluaran rendah, yang menunjukkan adanya peluang untuk meningkatkan nilai pelanggan melalui strategi pemasaran yang lebih tepat.\n"
   ]
  },
  {
   "cell_type": "markdown",
   "metadata": {
    "id": "uYOGNZQOgixz"
   },
   "source": [
    "### Pertanyaan 5: Dimana saja lokasi pelanggan di Brasil yang memberikan kontribusi terbesar terhadap nilai pembayaran selama tahun 2016 sampai 2018?"
   ]
  },
  {
   "cell_type": "markdown",
   "metadata": {
    "id": "CofkRX92gcrY"
   },
   "source": [
    "Lokasi Pelanggan dengan Kontribusi Pembayaran Tertinggi: Dari analisis, lokasi pelanggan di Brasil yang memberikan kontribusi terbesar terhadap nilai pembayaran antara tahun 2016 hingga 2018 adalah Piancó, PB dengan nilai pembayaran tertinggi sebesar 2.324,99, diikuti oleh São Sebastião, AL (2.269,98) dan Nova Esperança do Piriá, PA (2.252,66). Hal ini menunjukkan bahwa fokus pada area tersebut dapat meningkatkan efektivitas strategi pemasaran dan meningkatkan pendapatan."
   ]
  },
  {
   "cell_type": "code",
   "execution_count": null,
   "metadata": {
    "colab": {
     "base_uri": "https://localhost:8080/",
     "height": 17
    },
    "id": "10teVkVexqKj",
    "outputId": "1cb45346-e20c-4360-dfc0-846aa32db4aa"
   },
   "outputs": [
    {
     "data": {
      "application/javascript": "\n    async function download(id, filename, size) {\n      if (!google.colab.kernel.accessAllowed) {\n        return;\n      }\n      const div = document.createElement('div');\n      const label = document.createElement('label');\n      label.textContent = `Downloading \"${filename}\": `;\n      div.appendChild(label);\n      const progress = document.createElement('progress');\n      progress.max = size;\n      div.appendChild(progress);\n      document.body.appendChild(div);\n\n      const buffers = [];\n      let downloaded = 0;\n\n      const channel = await google.colab.kernel.comms.open(id);\n      // Send a message to notify the kernel that we're ready.\n      channel.send({})\n\n      for await (const message of channel.messages) {\n        // Send a message to notify the kernel that we're ready.\n        channel.send({})\n        if (message.buffers) {\n          for (const buffer of message.buffers) {\n            buffers.push(buffer);\n            downloaded += buffer.byteLength;\n            progress.value = downloaded;\n          }\n        }\n      }\n      const blob = new Blob(buffers, {type: 'application/binary'});\n      const a = document.createElement('a');\n      a.href = window.URL.createObjectURL(blob);\n      a.download = filename;\n      div.appendChild(a);\n      a.click();\n      div.remove();\n    }\n  ",
      "text/plain": [
       "<IPython.core.display.Javascript object>"
      ]
     },
     "metadata": {},
     "output_type": "display_data"
    },
    {
     "data": {
      "application/javascript": "download(\"download_e8ee6224-f3c7-46e7-b569-592855b19bd0\", \"requirements.txt\", 11058)",
      "text/plain": [
       "<IPython.core.display.Javascript object>"
      ]
     },
     "metadata": {},
     "output_type": "display_data"
    }
   ],
   "source": [
    "!pip freeze > requirements.txt # Use '!' to execute this as a shell command and '>' to redirect the output to a file.\n",
    "from google.colab import files\n",
    "files.download('requirements.txt')"
   ]
  },
  {
   "cell_type": "code",
   "execution_count": null,
   "metadata": {
    "colab": {
     "base_uri": "https://localhost:8080/",
     "height": 17
    },
    "id": "WKAA94vg3ZAy",
    "outputId": "d8f1f13c-6dcd-4827-d731-ece0800d5e2e"
   },
   "outputs": [
    {
     "data": {
      "application/javascript": "\n    async function download(id, filename, size) {\n      if (!google.colab.kernel.accessAllowed) {\n        return;\n      }\n      const div = document.createElement('div');\n      const label = document.createElement('label');\n      label.textContent = `Downloading \"${filename}\": `;\n      div.appendChild(label);\n      const progress = document.createElement('progress');\n      progress.max = size;\n      div.appendChild(progress);\n      document.body.appendChild(div);\n\n      const buffers = [];\n      let downloaded = 0;\n\n      const channel = await google.colab.kernel.comms.open(id);\n      // Send a message to notify the kernel that we're ready.\n      channel.send({})\n\n      for await (const message of channel.messages) {\n        // Send a message to notify the kernel that we're ready.\n        channel.send({})\n        if (message.buffers) {\n          for (const buffer of message.buffers) {\n            buffers.push(buffer);\n            downloaded += buffer.byteLength;\n            progress.value = downloaded;\n          }\n        }\n      }\n      const blob = new Blob(buffers, {type: 'application/binary'});\n      const a = document.createElement('a');\n      a.href = window.URL.createObjectURL(blob);\n      a.download = filename;\n      div.appendChild(a);\n      a.click();\n      div.remove();\n    }\n  ",
      "text/plain": [
       "<IPython.core.display.Javascript object>"
      ]
     },
     "metadata": {},
     "output_type": "display_data"
    },
    {
     "data": {
      "application/javascript": "download(\"download_1d361892-1e92-4873-be9e-a63b3569da7c\", \"sorted_heatmap_data_clean.csv\", 1772)",
      "text/plain": [
       "<IPython.core.display.Javascript object>"
      ]
     },
     "metadata": {},
     "output_type": "display_data"
    },
    {
     "data": {
      "application/javascript": "\n    async function download(id, filename, size) {\n      if (!google.colab.kernel.accessAllowed) {\n        return;\n      }\n      const div = document.createElement('div');\n      const label = document.createElement('label');\n      label.textContent = `Downloading \"${filename}\": `;\n      div.appendChild(label);\n      const progress = document.createElement('progress');\n      progress.max = size;\n      div.appendChild(progress);\n      document.body.appendChild(div);\n\n      const buffers = [];\n      let downloaded = 0;\n\n      const channel = await google.colab.kernel.comms.open(id);\n      // Send a message to notify the kernel that we're ready.\n      channel.send({})\n\n      for await (const message of channel.messages) {\n        // Send a message to notify the kernel that we're ready.\n        channel.send({})\n        if (message.buffers) {\n          for (const buffer of message.buffers) {\n            buffers.push(buffer);\n            downloaded += buffer.byteLength;\n            progress.value = downloaded;\n          }\n        }\n      }\n      const blob = new Blob(buffers, {type: 'application/binary'});\n      const a = document.createElement('a');\n      a.href = window.URL.createObjectURL(blob);\n      a.download = filename;\n      div.appendChild(a);\n      a.click();\n      div.remove();\n    }\n  ",
      "text/plain": [
       "<IPython.core.display.Javascript object>"
      ]
     },
     "metadata": {},
     "output_type": "display_data"
    },
    {
     "data": {
      "application/javascript": "download(\"download_0f596a95-11d9-478a-af35-c384b0e1f88b\", \"rfm_df.csv\", 6146373)",
      "text/plain": [
       "<IPython.core.display.Javascript object>"
      ]
     },
     "metadata": {},
     "output_type": "display_data"
    }
   ],
   "source": [
    "# Simpan sorted_heatmap_data_clean ke CSV\n",
    "sorted_heatmap_data_clean.to_csv('sorted_heatmap_data_clean.csv', index=False)\n",
    "\n",
    "# Simpan rfm_df ke CSV\n",
    "rfm_df.to_csv('rfm_df.csv', index=False)\n",
    "\n",
    "# Download file CSV\n",
    "files.download('sorted_heatmap_data_clean.csv')\n",
    "files.download('rfm_df.csv')"
   ]
  },
  {
   "cell_type": "code",
   "execution_count": null,
   "metadata": {
    "id": "hPM07CIx0ZjV"
   },
   "outputs": [],
   "source": [
    "monthly_order_counts.to_csv('monthly_order_counts.csv')\n",
    "payment_type_counts.to_csv('payment_type_counts.csv')\n",
    "state_counts.to_csv('state_counts.csv')"
   ]
  },
  {
   "cell_type": "code",
   "execution_count": null,
   "metadata": {
    "colab": {
     "base_uri": "https://localhost:8080/",
     "height": 17
    },
    "id": "WNbYHGsczECO",
    "outputId": "ff1a828c-cd1d-440b-bb6f-477e6aa68149"
   },
   "outputs": [
    {
     "data": {
      "application/javascript": "\n    async function download(id, filename, size) {\n      if (!google.colab.kernel.accessAllowed) {\n        return;\n      }\n      const div = document.createElement('div');\n      const label = document.createElement('label');\n      label.textContent = `Downloading \"${filename}\": `;\n      div.appendChild(label);\n      const progress = document.createElement('progress');\n      progress.max = size;\n      div.appendChild(progress);\n      document.body.appendChild(div);\n\n      const buffers = [];\n      let downloaded = 0;\n\n      const channel = await google.colab.kernel.comms.open(id);\n      // Send a message to notify the kernel that we're ready.\n      channel.send({})\n\n      for await (const message of channel.messages) {\n        // Send a message to notify the kernel that we're ready.\n        channel.send({})\n        if (message.buffers) {\n          for (const buffer of message.buffers) {\n            buffers.push(buffer);\n            downloaded += buffer.byteLength;\n            progress.value = downloaded;\n          }\n        }\n      }\n      const blob = new Blob(buffers, {type: 'application/binary'});\n      const a = document.createElement('a');\n      a.href = window.URL.createObjectURL(blob);\n      a.download = filename;\n      div.appendChild(a);\n      a.click();\n      div.remove();\n    }\n  ",
      "text/plain": [
       "<IPython.core.display.Javascript object>"
      ]
     },
     "metadata": {},
     "output_type": "display_data"
    },
    {
     "data": {
      "application/javascript": "download(\"download_b1d8fa21-6c29-4cd3-99a0-482f8554f1d2\", \"monthly_order_counts.csv\", 308)",
      "text/plain": [
       "<IPython.core.display.Javascript object>"
      ]
     },
     "metadata": {},
     "output_type": "display_data"
    },
    {
     "data": {
      "application/javascript": "\n    async function download(id, filename, size) {\n      if (!google.colab.kernel.accessAllowed) {\n        return;\n      }\n      const div = document.createElement('div');\n      const label = document.createElement('label');\n      label.textContent = `Downloading \"${filename}\": `;\n      div.appendChild(label);\n      const progress = document.createElement('progress');\n      progress.max = size;\n      div.appendChild(progress);\n      document.body.appendChild(div);\n\n      const buffers = [];\n      let downloaded = 0;\n\n      const channel = await google.colab.kernel.comms.open(id);\n      // Send a message to notify the kernel that we're ready.\n      channel.send({})\n\n      for await (const message of channel.messages) {\n        // Send a message to notify the kernel that we're ready.\n        channel.send({})\n        if (message.buffers) {\n          for (const buffer of message.buffers) {\n            buffers.push(buffer);\n            downloaded += buffer.byteLength;\n            progress.value = downloaded;\n          }\n        }\n      }\n      const blob = new Blob(buffers, {type: 'application/binary'});\n      const a = document.createElement('a');\n      a.href = window.URL.createObjectURL(blob);\n      a.download = filename;\n      div.appendChild(a);\n      a.click();\n      div.remove();\n    }\n  ",
      "text/plain": [
       "<IPython.core.display.Javascript object>"
      ]
     },
     "metadata": {},
     "output_type": "display_data"
    },
    {
     "data": {
      "application/javascript": "download(\"download_0957963e-86bf-4859-8627-769cb6420051\", \"payment_type_counts.csv\", 93)",
      "text/plain": [
       "<IPython.core.display.Javascript object>"
      ]
     },
     "metadata": {},
     "output_type": "display_data"
    },
    {
     "data": {
      "application/javascript": "\n    async function download(id, filename, size) {\n      if (!google.colab.kernel.accessAllowed) {\n        return;\n      }\n      const div = document.createElement('div');\n      const label = document.createElement('label');\n      label.textContent = `Downloading \"${filename}\": `;\n      div.appendChild(label);\n      const progress = document.createElement('progress');\n      progress.max = size;\n      div.appendChild(progress);\n      document.body.appendChild(div);\n\n      const buffers = [];\n      let downloaded = 0;\n\n      const channel = await google.colab.kernel.comms.open(id);\n      // Send a message to notify the kernel that we're ready.\n      channel.send({})\n\n      for await (const message of channel.messages) {\n        // Send a message to notify the kernel that we're ready.\n        channel.send({})\n        if (message.buffers) {\n          for (const buffer of message.buffers) {\n            buffers.push(buffer);\n            downloaded += buffer.byteLength;\n            progress.value = downloaded;\n          }\n        }\n      }\n      const blob = new Blob(buffers, {type: 'application/binary'});\n      const a = document.createElement('a');\n      a.href = window.URL.createObjectURL(blob);\n      a.download = filename;\n      div.appendChild(a);\n      a.click();\n      div.remove();\n    }\n  ",
      "text/plain": [
       "<IPython.core.display.Javascript object>"
      ]
     },
     "metadata": {},
     "output_type": "display_data"
    },
    {
     "data": {
      "application/javascript": "download(\"download_0cacd876-ffe3-4828-8a55-9a7c7c386702\", \"state_counts.csv\", 222)",
      "text/plain": [
       "<IPython.core.display.Javascript object>"
      ]
     },
     "metadata": {},
     "output_type": "display_data"
    }
   ],
   "source": [
    "files.download('monthly_order_counts.csv')\n",
    "files.download('payment_type_counts.csv')\n",
    "files.download('state_counts.csv')"
   ]
  }
 ],
 "metadata": {
  "colab": {
   "provenance": []
  },
  "kernelspec": {
   "display_name": "Python 3",
   "name": "python3"
  },
  "language_info": {
   "name": "python"
  }
 },
 "nbformat": 4,
 "nbformat_minor": 0
}
